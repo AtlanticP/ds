{
 "cells": [
  {
   "cell_type": "markdown",
   "metadata": {},
   "source": [
    "https://www.youtube.com/watch?v=ZHVDaunu5X0\n",
    "### Законы больших чисел и центральная предельная теорема"
   ]
  },
  {
   "cell_type": "code",
   "execution_count": 1,
   "metadata": {},
   "outputs": [],
   "source": [
    "import scipy.stats as sts\n",
    "import numpy as np\n",
    "import matplotlib.pyplot as plt "
   ]
  },
  {
   "cell_type": "markdown",
   "metadata": {},
   "source": [
    "#### ***Def*** \n",
    "Говорят, что последовательность случайных величин $\\xi_{1}, \\xi_{2}, ...$ с конечными первыми моментами **удовлетворяют закону больших чисел (ЗБЧ)**, если:\n",
    "$$\\frac{\\xi_{1}+...+\\xi_{n}}{n} - \\frac{E\\xi_{1}+...+E\\xi_{n}}{n} \\xrightarrow[n \\rightarrow \\infty]{P}0$$"
   ]
  },
  {
   "cell_type": "markdown",
   "metadata": {},
   "source": [
    "***Theor: ЗБЧ Чебышева***\n",
    "\n",
    "Для любой последовательности случайных величин $\\xi_{1}, \\xi_{2}, ...$ попарно независимых и одинаково распределенных случайных величин с конечным вторым моментом $E\\xi_{1}^2 < \\infty$ имеет место сходимость:\n",
    "$$\\frac{\\xi_{1}+...+\\xi_{n}}{n} \\xrightarrow[n \\rightarrow \\infty]{P} E\\xi_{1}$$\n",
    "*Замечание:* если слуайные величины одинаково распределены, то их математические ожидания равны."
   ]
  },
  {
   "cell_type": "markdown",
   "metadata": {},
   "source": [
    "***Теорема: ЗБЧ Маркова***\n",
    "\n",
    "Последовательность случайных величин $\\xi_{1}, \\xi_{2}, ...$ с конечными вторыми моментами, $S_{n}=\\xi_{1}+...+\\xi_{n}$ удовлетворяют ЗБЧ при выполнении любого из следующих условий, если:\n",
    "\n",
    "<ul>\n",
    "    <li> $D_{S_{n}}=\\overline{o}(n^2)$,</li>\n",
    "    <li> $\\xi_{1}, \\xi_{2}, ...$ независимы и $D_{\\xi_{1}}+...+D_{\\xi_{n}}=\\overline{o}(n^2)$</li>\n",
    "    <li> $\\xi_{1}, \\xi_{2}, ...$ независимы, одинаково распределены и имеют конечную дисперсию    \n",
    "</ul>\n",
    " Т.о., ЗБЧ выполнен, если дисперсия суммы n-слагаемых растет не слишком быстро с ростом n."
   ]
  },
  {
   "cell_type": "markdown",
   "metadata": {},
   "source": [
    "##### Theor (закон больших чисел Колмагорова)\n",
    "Пусть $X_{1}, X_{2}, ...$ - независимые одинаково распределенные случайные величины, $S_{n} = X_{1} + X_{2} + ...$ Тогда $\\frac {S_{n}}{n} \\rightarrow C$ с вероятностью 1 $\\Leftrightarrow \\exists \\, \\mathbb{E}X=C$\n",
    "##### Следствие: \n",
    "$\\mathbb{E}X_{1} \\Rightarrow P(\\frac {S_{n}}{n} \\xrightarrow[n \\rightarrow \\infty]{}\\mathbb{E}X_{1} ) = 1$"
   ]
  },
  {
   "cell_type": "markdown",
   "metadata": {},
   "source": [
    "##### Пример: \n",
    "Проводится n-испытаний в подбрасывании монеты, где $\\nu_{k}$ случайная величина:\n",
    "$\\begin{equation*}\n",
    " \\nu_{k}=\\begin{cases}\n",
    "   1 \\text{, если орел}\\\\\n",
    "   0 \\text{, если решка}\n",
    " \\end{cases}, \\forall k=0,1, ...\n",
    "\\end{equation*} \\,\\text{и}\\,X_{n}=\\sum_{i=1}^{k}\\nu_{i}, \\; \\forall n=1, 2, ...$\n",
    "<p>   Случайная величина $X_{n}$ задается как количество орлов (число успехов) при подбрасывании k-раз симметричной монеты в каждом испытании, $S_{n} = \\sum_{l}^{n}X_{l}$</p>\n",
    "\n"
   ]
  },
  {
   "cell_type": "code",
   "execution_count": 2,
   "metadata": {},
   "outputs": [
    {
     "name": "stdout",
     "output_type": "stream",
     "text": [
      "30 раз подбросили монетку в отдельном испытании [1 1 1 1 1 0 1 1 1 0 1 1 1 1 0 0 1 0 0 1 0 0 0 0 1 1 0 0 0 1]\n",
      "доля выпавших орлов: 0.5666666666666667 \n",
      "\n",
      "и провели n = 100 испытаний\n",
      "Т.о. отношение задаваемое ЗБЧ = 0.48300000000000004 , что согласно указанной теореме стремится к математическому ожиданию случайной величины, задаваемой распределением по схеме Бернулли, равное p = 0.5\n"
     ]
    }
   ],
   "source": [
    "# ПЕРЕДЕЛАТЬ, лучший пример ниже\n",
    "\n",
    "k = 30\n",
    "n = 100\n",
    "p = 0.5\n",
    "\n",
    "sample = sts.bernoulli.rvs(p=p, size=k)\n",
    "print(f'{k} раз подбросили монетку в отдельном испытании', sample)\n",
    "print(f'доля выпавших орлов: {sample.mean()}', '\\n')\n",
    "print(f'и провели n = {n} испытаний')\n",
    "\n",
    "exprs = []\n",
    "\n",
    "for l in range(n):\n",
    "    X = sts.bernoulli.rvs(p=0.5, size=k)\n",
    "    exprs.append(X.mean())\n",
    "\n",
    "res = sum(exprs)/n\n",
    "print('Т.о. отношение задаваемое ЗБЧ =', res, \n",
    "      f', что согласно указанной теореме стремится к математическому ожиданию случайной величины, задаваемой распределением по схеме Бернулли, равное p = {p}')"
   ]
  },
  {
   "cell_type": "markdown",
   "metadata": {},
   "source": [
    "В XX веке исследования Чебышёва и Маркова продолжили А. Я. Хинчин и А. Н. Колмогоров. Они показали, что если случайные величины не только независимы, но и одинаково распределены, то существование у них математического ожидания является необходимым и достаточным условием для применимости закона больших чисел\n",
    "https://ru.wikipedia.org/wiki/%D0%97%D0%B0%D0%BA%D0%BE%D0%BD_%D0%B1%D0%BE%D0%BB%D1%8C%D1%88%D0%B8%D1%85_%D1%87%D0%B8%D1%81%D0%B5%D0%BB"
   ]
  },
  {
   "cell_type": "code",
   "execution_count": 3,
   "metadata": {},
   "outputs": [
    {
     "name": "stdout",
     "output_type": "stream",
     "text": [
      "[1.98861217]\n"
     ]
    },
    {
     "data": {
      "text/plain": [
       "<matplotlib.legend.Legend at 0x7f29633ced10>"
      ]
     },
     "execution_count": 3,
     "metadata": {},
     "output_type": "execute_result"
    },
    {
     "data": {
      "image/png": "[encoded data removed]",
      "text/plain": [
       "<Figure size 432x288 with 1 Axes>"
      ]
     },
     "metadata": {
      "needs_background": "light"
     },
     "output_type": "display_data"
    }
   ],
   "source": [
    "k = 30\n",
    "n = int(1e2)\n",
    "alpha = 2\n",
    "rvs = []\n",
    "s = 0\n",
    "summ = []\n",
    "for i in range(1, n):\n",
    "    rv = sts.laplace.rvs(loc=alpha, scale=1, size=1)\n",
    "    rvs.append(rv)\n",
    "    s += rv\n",
    "    summ.append(s/i)\n",
    "    \n",
    "print(sum(rvs)/n)\n",
    "xx = np.arange(1, n)\n",
    "plt.xlabel('n')\n",
    "plt.ylabel('Sn/n')\n",
    "plt.plot([1, n], [alpha, alpha], color='grey', label='Math expectation')\n",
    "plt.scatter(xx, summ, s=0.5, label='Sn/n')\n",
    "plt.legend()"
   ]
  },
  {
   "cell_type": "markdown",
   "metadata": {},
   "source": [
    "##### Пример отсутствия матожидания (Петербургская лотерея)\n",
    "Если впервые орел впервые выпадает при k-м испытании, то выигрышь составляет $2^k$ рублей, тогда:\n",
    "$P({X^k})= (\\frac{1}{2})^k\\cdot\\frac{1}{2}=\\frac{1}{2^k},\\forall k=1, 2, ...$\n",
    "\n",
    "$EX_{1}=\\sum_{k=1}^{\\infty}2^k \\cdot P({X^k})=\\sum_{k=1}^{\\infty}2^k \\cdot \\frac{1}{2^k}=\\sum_{k=1}^{\\infty}1=\\infty,\\forall k=1, 2, ... \\Rightarrow \\nexists E$"
   ]
  },
  {
   "cell_type": "code",
   "execution_count": 4,
   "metadata": {
    "scrolled": true
   },
   "outputs": [
    {
     "data": {
      "text/plain": [
       "<matplotlib.legend.Legend at 0x7f296324ddd0>"
      ]
     },
     "execution_count": 4,
     "metadata": {},
     "output_type": "execute_result"
    },
    {
     "data": {
      "image/png": "[encoded data removed]",
      "text/plain": [
       "<Figure size 432x288 with 1 Axes>"
      ]
     },
     "metadata": {
      "needs_background": "light"
     },
     "output_type": "display_data"
    }
   ],
   "source": [
    "p, size, n = 0.5, 100, 1000\n",
    "summ = []\n",
    "rvs = []\n",
    "s = 0\n",
    "\n",
    "for exp in range(1, n):\n",
    "    \n",
    "    sample = sts.bernoulli.rvs(p=p, size=size)\n",
    "    for i, rv in enumerate(sample, start=1):\n",
    "\n",
    "        if rv == 1:\n",
    "            X = pow(2, i)\n",
    "            s += X\n",
    "            summ.append(s/exp)\n",
    "            rvs.append((sample, X, s, exp))          \n",
    "            break\n",
    "\n",
    "plt.xlabel('n')\n",
    "plt.ylabel('Sn/n')\n",
    "xx = np.arange(1, n)\n",
    "plt.scatter(xx, summ, s=0.5, label='Sn/n')\n",
    "plt.legend()\n",
    "    "
   ]
  },
  {
   "cell_type": "markdown",
   "metadata": {},
   "source": [
    "##### Свойство (непрерывность сходимости с вероятностью 1)\n",
    "Пусть $\\xi_{1}, \\xi_{2}, ...$ - последовательность случайных величин, $\\xi$ - **const**, $\\xi_{n} \\xrightarrow[n \\rightarrow \\infty]{п.н.} \\xi ,\\; g(\\xi_{n})$ - непрерывная в точке $\\xi$ функция $\\Rightarrow g(\\xi_{n}) \\xrightarrow[n \\rightarrow \\infty]{п.н.} g(\\xi) $ "
   ]
  },
  {
   "cell_type": "markdown",
   "metadata": {},
   "source": [
    "##### Пример\n",
    "Пусть $X_{1}, X_{2}, ...$ - независимые, $\\forall i=1,2,..., X_{i} \\in E_{\\alpha}, \\; \\alpha>0$, где $E_{\\alpha}$-функция плотности показательного распределения. $\\lim_{n\\to\\infty} \\frac {n}{X_{1},..., X_{n}}$"
   ]
  }
 ],
 "metadata": {
  "kernelspec": {
   "display_name": "Python 3",
   "language": "python",
   "name": "python3"
  },
  "language_info": {
   "codemirror_mode": {
    "name": "ipython",
    "version": 3
   },
   "file_extension": ".py",
   "mimetype": "text/x-python",
   "name": "python",
   "nbconvert_exporter": "python",
   "pygments_lexer": "ipython3",
   "version": "3.7.7"
  },
  "latex_envs": {
   "LaTeX_envs_menu_present": true,
   "autoclose": false,
   "autocomplete": false,
   "bibliofile": "biblio.bib",
   "cite_by": "apalike",
   "current_citInitial": 1,
   "eqLabelWithNumbers": false,
   "eqNumInitial": 1,
   "hotkeys": {
    "equation": "Ctrl-E",
    "itemize": "Ctrl-I"
   },
   "labels_anchors": false,
   "latex_user_defs": false,
   "report_style_numbering": false,
   "user_envs_cfg": false
  }
 },
 "nbformat": 4,
 "nbformat_minor": 4
}
