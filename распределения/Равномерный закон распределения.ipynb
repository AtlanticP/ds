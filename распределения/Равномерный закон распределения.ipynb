{
 "cells": [
  {
   "cell_type": "code",
   "execution_count": 53,
   "metadata": {},
   "outputs": [],
   "source": [
    "import matplotlib.pyplot as plt\n",
    "import numpy as np "
   ]
  },
  {
   "cell_type": "markdown",
   "metadata": {},
   "source": [
    "### Равномерный закон распределения"
   ]
  },
  {
   "cell_type": "markdown",
   "metadata": {},
   "source": [
    "Непрерывная СВ $\\xi$ имеет равномерное распределение на отрезке [a, b] $(\\xi \\sim R[a,b])$, если ее плотность вероятности $p(x)$ постоянна на этом отрезке, а вне его равна нулю:\n",
    "$$\n",
    "f_\\xi(x)=\\begin{cases}\n",
    "   \\frac{1}{b-a} \\text{, при } x \\in [a, b],\\\\\n",
    "   0 \\text{, при } x \\notin [a, b]. \\\\\n",
    " \\end{cases}\n",
    "$$"
   ]
  },
  {
   "cell_type": "markdown",
   "metadata": {},
   "source": [
    "<ul>\n",
    "    <li>$\n",
    "\\int\\limits_{-\\infty}^\\infty cdx = 1 \\Leftrightarrow \n",
    "    cx \\; \\big|_a^b = 1 \\Rightarrow c = \\frac{1}{b-a}\n",
    "    $</li>\n",
    "    <li>$R[a,b]=R[a,b)=R(a,b]=R(a,b)$</li>\n",
    "<ul>"
   ]
  },
  {
   "cell_type": "code",
   "execution_count": 58,
   "metadata": {},
   "outputs": [
    {
     "data": {
      "image/png": "[encoded data removed]",
      "text/plain": [
       "<Figure size 432x288 with 1 Axes>"
      ]
     },
     "metadata": {
      "needs_background": "light"
     },
     "output_type": "display_data"
    }
   ],
   "source": [
    "def p(x, a=1, b=4):\n",
    "    if b<a:\n",
    "        raise ValueError('a <= b')\n",
    "    if x < a or x > b:\n",
    "        return 0\n",
    "    else:\n",
    "        return 1/(b-a)\n",
    "a, b = 2, 4\n",
    "xx = np.arange(0, 6, 0.01)\n",
    "plt.plot(xx, list(map(lambda x: p(x=x, a=a, b=b), xx)), 'b.', label='a={}, b={}, c={}'.format(a, b, 1/(b-a)))\n",
    "plt.title('График плотности равномерного распределения \\n непрерывной случайной величины')\n",
    "plt.xlabel('x')\n",
    "plt.ylabel('f(x)')\n",
    "plt.legend()\n",
    "plt.show()"
   ]
  },
  {
   "cell_type": "markdown",
   "metadata": {},
   "source": [
    "$F_\\xi(x) = \\int\\limits_{-\\infty}^{x}f_\\xi(t)dt \\Rightarrow \\int\\limits_{a}^{x}\\frac{dt}{b-a}=\\frac{x-a}{b-a}$, при $a<x\\leq b; F_\\xi(x)=0$ при $x\\leq a$, и\n",
    "$$\\notag F_\\xi(x)= \\int\\limits_{-\\infty}^{a}0dt + \n",
    "    \\int\\limits_{a}^{b}\\frac{dt}{b-a}dt + \\int\\limits_{b}^{x}0dt=\\frac{t}{b-a}\\bigg|_a^b=1,$$ при $b < x$. Т.о.,\n",
    "    $$\n",
    "    F_\\xi(x)=\\begin{cases}\n",
    "   0 \\text{, при } x\\leq a,\\\\\n",
    "   \\frac{x-a}{b-a} \\text{, при } a<x\\leq b,\\\\\n",
    "   1 \\text{, при } b\\leq x.\n",
    "     \\end{cases}\n",
    "    $$\n"
   ]
  },
  {
   "cell_type": "code",
   "execution_count": 60,
   "metadata": {},
   "outputs": [
    {
     "data": {
      "image/png": "[encoded data removed]",
      "text/plain": [
       "<Figure size 432x288 with 1 Axes>"
      ]
     },
     "metadata": {
      "needs_background": "light"
     },
     "output_type": "display_data"
    }
   ],
   "source": [
    "def F(x, a=1, b=4):\n",
    "    if b<a:\n",
    "        raise ValueError('a <= b')\n",
    "    if x < a:\n",
    "        return 0\n",
    "    elif x > b:\n",
    "        return 1\n",
    "    else:\n",
    "        return (x-a)/(b-a)\n",
    "\n",
    "a, b = 2, 4\n",
    "xx = np.arange(0, 6, 0.01)\n",
    "plt.plot(xx, list(map(lambda x: F(x=x, a=a, b=b), xx)), 'b.', label='a={}, b={}, c={}'.format(a, b, 1/(b-a)))\n",
    "plt.title('График равномерного распределения \\n непрерывной случайной величины')\n",
    "plt.xlabel('x')\n",
    "plt.ylabel('f(x)')\n",
    "plt.legend()\n",
    "plt.show()    "
   ]
  },
  {
   "cell_type": "markdown",
   "metadata": {},
   "source": [
    "***Математическое ожидание непрерывной СВ***\n",
    "\n",
    "$E_\\xi=\\int\\limits_{-\\infty}^{\\infty}xp(x)dx=\\int\\limits_{a}^{b}\\frac{x}{b-a}dx=\\frac{1}{b-a}\\frac{x^2}{2} \\bigg|_{a}^{b}=\\frac{b+a}{2}$\n",
    "\n",
    "$D_\\xi=\\int\\limits_{a}^{b}\\frac{x^2}{b-a}dx - \\frac{(b+a)^2}{4} = \\frac{(b-a)^2}{12}$"
   ]
  },
  {
   "cell_type": "markdown",
   "metadata": {},
   "source": [
    "*Дискретная случайная величина $\\eta$ имеет равномерное распределение*, если она принимает целочисленные значение 1, 2, 3, ..., n с вероятностью $p_m=P\\{\\xi=m\\}=\\frac1 n$, где $m=1, 2, 3, ..., n.$\n",
    "$$E_\\eta=\\frac{n(n+1)}{2n}=\\frac{1+n}{2}$$\n",
    "$$D_\\eta=\\sum\\limits_{k=1}^{n}\\frac{\\eta_k^2}{n}-\\bigg(\\frac{1+n}{2}\\bigg)^2$$"
   ]
  },
  {
   "cell_type": "code",
   "execution_count": 76,
   "metadata": {},
   "outputs": [
    {
     "data": {
      "text/latex": [
       "$\\displaystyle \\frac{1}{12} - \\frac{n^{2}}{12}$"
      ],
      "text/plain": [
       "1/12 - n**2/12"
      ]
     },
     "execution_count": 76,
     "metadata": {},
     "output_type": "execute_result"
    }
   ],
   "source": [
    "import sympy as sp\n",
    "n = sp.symbols('n')\n",
    "E = (n+1)/2\n",
    "f = ((n+1)*(n+2))/6\n",
    "\n",
    "(f-E**2).expand()\n",
    "# (E**2).expand()"
   ]
  }
 ],
 "metadata": {
  "kernelspec": {
   "display_name": "Python 3",
   "language": "python",
   "name": "python3"
  },
  "language_info": {
   "codemirror_mode": {
    "name": "ipython",
    "version": 3
   },
   "file_extension": ".py",
   "mimetype": "text/x-python",
   "name": "python",
   "nbconvert_exporter": "python",
   "pygments_lexer": "ipython3",
   "version": "3.7.7"
  },
  "latex_envs": {
   "LaTeX_envs_menu_present": true,
   "autoclose": false,
   "autocomplete": false,
   "bibliofile": "biblio.bib",
   "cite_by": "apalike",
   "current_citInitial": 1,
   "eqLabelWithNumbers": false,
   "eqNumInitial": 1,
   "hotkeys": {
    "equation": "Ctrl-E",
    "itemize": "Ctrl-I"
   },
   "labels_anchors": false,
   "latex_user_defs": false,
   "report_style_numbering": false,
   "user_envs_cfg": false
  }
 },
 "nbformat": 4,
 "nbformat_minor": 4
}
