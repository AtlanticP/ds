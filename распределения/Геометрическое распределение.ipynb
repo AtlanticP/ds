{
 "cells": [
  {
   "cell_type": "markdown",
   "metadata": {},
   "source": [
    "\n",
    "***Геометрическое распределение***"
   ]
  },
  {
   "cell_type": "markdown",
   "metadata": {},
   "source": [
    "Дискретная СВ $\\xi$ имеет геометрическое распределение, если ее возможные значения: $1, 2, 3, 4,...$, а вероятности этих значений:\n",
    "$$\n",
    "\\label{eq:1}\n",
    "    p_k = P({\\xi_k = k}) = q^{k-1}p, \\text{ где } k=1,2,3... \n",
    "$$\n",
    "Примеры: число выстрелов до первого попадания, число испытаний прибора до первого отказа, число бросания монеты до первого выпадения решки и т.д.\n",
    "$$\n",
    "\\begin{array}{|c|c|с|c|}\\label{}\n",
    "\\hline k   & 1 & 2  & 3    & ... &n&...& \\\\\\hline\n",
    " P(\\xi = k)  & p & qp & q^2p & ... &q^{n-1}p&...& \\\\\\hline\n",
    "\\end{array}\n",
    "$$"
   ]
  },
  {
   "cell_type": "markdown",
   "metadata": {},
   "source": [
    "$\n",
    "\\Phi_\\xi(z)=\\sum\\limits_{k=0}^{\\infty}pq^{k-1}z^k = pz\\sum\\limits_{k=0}^{\\infty}(qz)^{k-1} = pz\\frac{1-(qz)^{k-1}}{1-qz}\n",
    "\\Rightarrow \\lim\\limits_{k\\to\\infty}{pz\\frac{1-(qz)^{k-1}}{1-qz}}=\\frac{pz}{1-qz}, \\text{при условии, что } |qz|<1  \\Rightarrow \\Phi_\\xi'(z) = \\frac{p}{(1-qz)^2} \\Rightarrow \\Phi_\\xi'(1) = \\frac{p}{(1-q)^2} = \\frac{1}{p} \\\\\n",
    "\\Phi_\\xi''(z) = \\frac{2pq}{(1-qz)^3} \\Rightarrow \n",
    "    \\Phi_\\xi''(1) = \\frac{2q}{p^2} \\Rightarrow \\\\\n",
    "D_\\xi=\\Phi_\\xi''(1)+\\Phi_\\xi'(1)-(\\Phi_\\xi'(1))^2=\n",
    "    \\frac{2q}{p^2} + \\frac{1}{p} - \\frac{1}{p^2} = \\frac{2q+p-1}{p^2}=\n",
    "        \\frac{q}{p^2}\n",
    "$\n"
   ]
  },
  {
   "cell_type": "code",
   "execution_count": 71,
   "metadata": {},
   "outputs": [
    {
     "data": {
      "image/png": "[encoded data removed]",
      "text/plain": [
       "<Figure size 432x288 with 1 Axes>"
      ]
     },
     "metadata": {
      "needs_background": "light"
     },
     "output_type": "display_data"
    }
   ],
   "source": [
    "import matplotlib.pyplot as plt\n",
    "p, q, n = .5, 1-p, 7\n",
    "kk = list(range(1, n))\n",
    "dstr = []\n",
    "\n",
    "for k in kk:\n",
    "    dstr.append(q**(k-1)*p)\n",
    "    \n",
    "plt.vlines(kk, 0, dstr, color='b', lw=5, alpha=0.7)\n",
    "plt.plot(kk, dstr, 'bo', ms=10, label=f'p = {p}')\n",
    "plt.title('Геометрическое распределение')\n",
    "plt.xlabel('k')\n",
    "plt.ylabel(r'$P(\\xi=k)$')\n",
    "plt.legend()\n",
    "plt.show()"
   ]
  },
  {
   "cell_type": "code",
   "execution_count": 33,
   "metadata": {},
   "outputs": [],
   "source": [
    "import scipy.stats as sts"
   ]
  },
  {
   "cell_type": "code",
   "execution_count": 76,
   "metadata": {
    "scrolled": true
   },
   "outputs": [
    {
     "data": {
      "image/png": "[encoded data removed]",
      "text/plain": [
       "<Figure size 432x288 with 1 Axes>"
      ]
     },
     "metadata": {
      "needs_background": "light"
     },
     "output_type": "display_data"
    }
   ],
   "source": [
    "# plt.plot(kk, sts.geom(p).pmf(kk), label=f'p = {p}')\n",
    "plt.title('Геометрическое распределение средствами Scipy')\n",
    "plt.vlines(kk, 0, sts.geom(p).pmf(kk), color='m', lw=5, alpha=0.5)\n",
    "plt.plot(kk, dstr, 'mo', ms=10, label=f'p = {p}')\n",
    "\n",
    "plt.xlabel('k')\n",
    "plt.ylabel(r'$P(\\xi=k)$')\n",
    "plt.legend()\n",
    "plt.show()"
   ]
  },
  {
   "cell_type": "markdown",
   "metadata": {},
   "source": [
    "***Пример.*** Два орудия залпом, но при независимой наводке, стреляют в цель до первого попадания хотя бы одним орудием. Вероятность попадания в цель первым орудием при одном выстреле равна 0,2, вторым – 0,3. Найти:\n",
    "<ol>\n",
    "    <li>Закон распределения числа $\\xi$ сделанных залпов.</li>\n",
    "    <li>$P(\\xi \\gt 2)$</li>\n",
    "    <li>$E_\\xi$</li>\n",
    "</ol>"
   ]
  },
  {
   "cell_type": "markdown",
   "metadata": {},
   "source": [
    "Вероятность попадания хотя бы одним выстрелом равна $p=1-q_1q_2=1-0.8\\cdot0.7=0.44$"
   ]
  },
  {
   "cell_type": "code",
   "execution_count": 77,
   "metadata": {},
   "outputs": [
    {
     "name": "stdout",
     "output_type": "stream",
     "text": [
      "[0.44, 0.246, 0.138, 0.077, 0.043, 0.024]\n"
     ]
    }
   ],
   "source": [
    "p1, p2 = .2, .3\n",
    "q1, q2 = 1-p1, 1-p2\n",
    "p = p1*p2+p1*q2+p2*q1 \n",
    "p = round(p, 2)\n",
    "q = 1-p\n",
    "\n",
    "n = 7\n",
    "kk = list(range(1, n))\n",
    "dstr = []\n",
    "for k in kk:\n",
    "    dstr.append(q**(k-1)*p)\n",
    "print([round(i, 3) for i in dstr])"
   ]
  },
  {
   "cell_type": "markdown",
   "metadata": {},
   "source": [
    "$P(\\xi>2) = 1 - P(\\xi \\leq 2)$"
   ]
  },
  {
   "cell_type": "code",
   "execution_count": 106,
   "metadata": {},
   "outputs": [
    {
     "name": "stdout",
     "output_type": "stream",
     "text": [
      "Вероятность того, что хотя бы одно орудие попадет в цель только с третьей или более попытки равна 0.3136\n"
     ]
    }
   ],
   "source": [
    "p_ = 1 - sum(dstr[:2])\n",
    "print('Вероятность того, что хотя бы одно орудие', end='')\n",
    "print(' попадет в цель только с третьей или более попытки равна', p_)"
   ]
  },
  {
   "cell_type": "code",
   "execution_count": 108,
   "metadata": {},
   "outputs": [
    {
     "data": {
      "text/plain": [
       "0.3136"
      ]
     },
     "execution_count": 108,
     "metadata": {},
     "output_type": "execute_result"
    }
   ],
   "source": [
    "rv = sts.geom(p=p)\n",
    "rv.sf(2)"
   ]
  },
  {
   "cell_type": "markdown",
   "metadata": {},
   "source": [
    "$E_\\xi = \\frac{1}{p} \\approx 2.2727$"
   ]
  }
 ],
 "metadata": {
  "kernelspec": {
   "display_name": "Python 3",
   "language": "python",
   "name": "python3"
  },
  "language_info": {
   "codemirror_mode": {
    "name": "ipython",
    "version": 3
   },
   "file_extension": ".py",
   "mimetype": "text/x-python",
   "name": "python",
   "nbconvert_exporter": "python",
   "pygments_lexer": "ipython3",
   "version": "3.7.7"
  },
  "latex_envs": {
   "LaTeX_envs_menu_present": true,
   "autoclose": true,
   "autocomplete": true,
   "bibliofile": "biblio.bib",
   "cite_by": "apalike",
   "current_citInitial": 1,
   "eqLabelWithNumbers": false,
   "eqNumInitial": 2,
   "hotkeys": {
    "equation": "Ctrl-E",
    "itemize": "Ctrl-I"
   },
   "labels_anchors": true,
   "latex_user_defs": false,
   "report_style_numbering": false,
   "user_envs_cfg": false
  }
 },
 "nbformat": 4,
 "nbformat_minor": 4
}
