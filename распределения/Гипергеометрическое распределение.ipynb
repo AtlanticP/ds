{
 "cells": [
  {
   "cell_type": "markdown",
   "metadata": {},
   "source": [
    "### Гипергеометрическое распределение"
   ]
  },
  {
   "cell_type": "markdown",
   "metadata": {},
   "source": [
    "Дискретная величина (ДСВ) $\\xi$ имеет *гипергеометрическое распределение*, если она принимает значения 0, 1, 2,..., k,...,min(n,M) с вероятностями\n",
    "$$ \\boxed{p_m=P(\\{ \\xi=m \\})=\\frac{C_n^mC_{N-M}^{n-m}}{C_N^n}},$$\n",
    "где $m=0,1,...,min(n,M), M \\leq N, m \\leq n, n \\leq N\n",
    "; n, M, N \\in \\mathbb{N}$\n",
    "\n",
    "&nbsp;&nbsp;&nbsp;&nbsp;В урне $N$ шаров, из них $M$ белых, а остальные черные; из нее вынимается $n$ шаров. Требуется найти вероятность того, что среди извлеченных шаров будет равно $m$ белых (остальные черные). Случайная величина $\\xi$ - число белых шаров среди извлеченных из урны.\n",
    "\n",
    "$$ \\notag\n",
    "\\begin{array}{|c|c|с|c|c|}\n",
    "    \\hline ...      & белых & черных  & ...  \\\\\n",
    "    \\hline извлекли & m   & n-m     & n \\\\\n",
    "    \\hline в\\;урне   & M-m & N-M-n+m & N-n \\\\\n",
    "    \\hline          & M   & N-M     & N   \\\\\n",
    "    \\hline\n",
    "\\end{array}\n",
    "$$"
   ]
  },
  {
   "cell_type": "markdown",
   "metadata": {},
   "source": [
    "***Математическое ожидание***\n",
    "\n",
    "\n",
    "Поставим в соответствие черному шару $0$, а белому $1$. Тогда случайная величина $\\eta_i$ принимает значение $1$, если в $i$-ый шар - белый шар и $0$, если этот шар черный соответственно. Т.е. $\\eta_i \\in \\{ 0, 1 \\}, \\; i=\\overline{1,n};\\; P(\\eta_i=1)=p$, $P(\\eta_i=0)=q$ и $k=\\sum\\limits_{i=1}^n\\eta_i$. Всего извлекается $n$ шаров. Данная случайная величина имеет распределение Бернулли, чье $E_{\\eta_i}=p=\\frac{M}{N} \\Rightarrow E_{\\xi}=E_{\\sum\\limits_{i=1}^n \\eta_i}=\\sum\\limits_{i=1}^n E_{\\eta_i} = \\frac{nM}{N}$\n",
    "$$\\boxed{E_{\\xi} = \\frac{nM}{N}}$$"
   ]
  },
  {
   "cell_type": "markdown",
   "metadata": {},
   "source": [
    "***Дисперсия***\n",
    "\n",
    "$$D_\\xi=D({\\sum\\limits_{i=1}^n\\eta_i})=\\sum\\limits_{i=1}^n D_{\\eta_i} + 2C_n^2cov(\\eta_i, \\eta_j), \\forall \\;i,j:\\; i \\neq j \\; cov(\\xi_i, \\xi_j) - \\text{равны}$$\n",
    "\n",
    "$ \\pmb D_{\\pmb\\eta_i}  =pq=p(1-p)=\\frac{M}{N}\\frac{N-M}{N} \\; \\forall  i=\\overline{1,n}$\n",
    "\n",
    "$\\pmb cov(\\pmb\\eta_i, \\pmb\\eta_j) = E_{(\\eta_i, \\eta_j)} - \n",
    "    E_{\\eta_i}E_{\\eta_j} =\n",
    "\\\\ = 00p_{00}+01p_{01}+10p_{10}+11p_{11} - E_{\\eta_i}E_{\\eta_j}= \n",
    "\\\\ = P(\\eta_i=1, \\eta_j=1) - E_{\\eta_i}E_{\\eta_j} = \\frac{M}{N}\\frac{M-1}{N-1} - \\frac{M^2}{N^2}=\\frac{M}{N}\\frac{M-1}{N-1} - \\frac{M^2}{N^2}$\n",
    "\n",
    "$\\pmb D_{\\pmb \\xi}=D({\\sum\\limits_{i=1}^n\\eta_i})=\\frac{nM}{N}\\frac{N-M}{N}+\\frac{2n!}{(n-2)!2!}(\\frac{M}{N}\\frac{M-1}{N-1} - \\frac{M^2}{N^2})=\\\\\n",
    "=\\frac{nM}{N}(\\frac{N-M}{N}+(n-1)(\\frac{M-1}{N-1} - \\frac{M}{N}))\n",
    "=\\frac{nM}{N}(\\frac{N-M}{N}+(n-1)\\frac{((M-1)N - M(N-1))}{(N-1)N})=\\\\\n",
    "=\\frac{nM}{N}(\\frac{N-M}{N}+(n-1)\\frac{(M - N)}{(N-1)N})\n",
    "=\\frac{nM(N-M)(N-n)}{N^2(N-1)}$\n",
    "$$\\boxed{D_\\xi=\\frac{nM(N-M)(N-n)}{N^2(N-1)}}$$"
   ]
  },
  {
   "cell_type": "markdown",
   "metadata": {},
   "source": [
    "Гипергеометрическое распределение используется при решении задач, связанных с контролем качества продукции (и других).\n",
    "\n",
    "***Пример***\n",
    "В группе из 21 студентов 5 девушек. Из этой группы наудачу отбирается 3 студента. Составить закон распределение ДСВ $\\xi$ - числа девушек из отобранных студентов. Найти матожидание $\\xi$."
   ]
  },
  {
   "cell_type": "code",
   "execution_count": 5,
   "metadata": {},
   "outputs": [
    {
     "name": "stdout",
     "output_type": "stream",
     "text": [
      "Help on function C in module mystat:\n",
      "\n",
      "C(n, k)\n",
      "    binomial coefficient, where n things taken k: \n",
      "    \"return int(fact(n)/(fact(k)*fact(n-k)))\"\n",
      "\n"
     ]
    }
   ],
   "source": [
    "from mystat import C\n",
    "import matplotlib.pyplot as plt "
   ]
  },
  {
   "cell_type": "code",
   "execution_count": 58,
   "metadata": {},
   "outputs": [
    {
     "name": "stdout",
     "output_type": "stream",
     "text": [
      "Математическое ожидание по формуле (2) равно 0.7142857142857142\n",
      "Математическое ожидание по определению равно 0.7142857142857142\n"
     ]
    },
    {
     "data": {
      "image/png": "[encoded data removed]",
      "text/plain": [
       "<Figure size 432x288 with 1 Axes>"
      ]
     },
     "metadata": {
      "needs_background": "light"
     },
     "output_type": "display_data"
    }
   ],
   "source": [
    "N, M, n = 21, 5, 3\n",
    "\n",
    "PP = {}\n",
    "\n",
    "for m in range(0, n+1):\n",
    "\n",
    "    p = (C(n=M, k=m)*C(n=N-M, k=n-m))/(C(n=N, k=n))\n",
    "    PP[m] = p\n",
    "\n",
    "E = n*(M/N)\n",
    "print('Математическое ожидание по формуле (2) равно', E)\n",
    "E = 0\n",
    "for p, x in PP.items():\n",
    "    E += p*x\n",
    "print('Математическое ожидание по определению равно', E)\n",
    "\n",
    "plt.vlines(PP.keys(), 0, PP.values(), colors='b', lw=5, alpha=0.5)\n",
    "plt.plot(list(P.keys()), list(P.values()), 'bo', ms=10, label=f'p = {p}')\n",
    "plt.xlabel('m')\n",
    "plt.ylabel(r'$P(\\xi=m)$')\n",
    "plt.title('Гипергеометрическое распределение')\n",
    "plt.show()"
   ]
  },
  {
   "cell_type": "code",
   "execution_count": 21,
   "metadata": {},
   "outputs": [],
   "source": [
    "import scipy.stats as sts"
   ]
  },
  {
   "cell_type": "code",
   "execution_count": 40,
   "metadata": {},
   "outputs": [],
   "source": [
    "N, M, n = 21, 5, 3\n",
    "[M, n, N] = [20, 7, 12]\n",
    "sts.hypergeom(n=M, M=n, N=N).pmf(1)\n",
    "rv = hypergeom(M, n, N)"
   ]
  },
  {
   "cell_type": "markdown",
   "metadata": {},
   "source": [
    "$\\frac{\\binom{n}{k} \\binom{M - n}{N - k}}\n",
    "                               {\\binom{M}{N}}$"
   ]
  },
  {
   "cell_type": "code",
   "execution_count": 52,
   "metadata": {},
   "outputs": [
    {
     "data": {
      "image/png": "[encoded data removed]",
      "text/plain": [
       "<Figure size 432x288 with 1 Axes>"
      ]
     },
     "metadata": {
      "needs_background": "light"
     },
     "output_type": "display_data"
    }
   ],
   "source": [
    "import numpy as np\n",
    "[M, n, N] = [21, 3, 5]\n",
    "rv = sts.hypergeom(M, n, N)\n",
    "mm = np.arange(0, n+1)\n",
    "PP = rv.pmf(mm)\n",
    "\n",
    "fig = plt.figure()\n",
    "ax = fig.add_subplot(111)\n",
    "ax.plot(mm, PP, 'bo')\n",
    "ax.vlines(mm, 0, PP, lw=2)\n",
    "ax.set_xlabel('Кол-во девушек в выборке (m)')\n",
    "ax.set_ylabel(r'$P(\\xi=m)$')\n",
    "ax.set_title('Гипергеометрическое распределение средствами Scipy')\n",
    "plt.show()\n"
   ]
  }
 ],
 "metadata": {
  "kernelspec": {
   "display_name": "Python 3",
   "language": "python",
   "name": "python3"
  },
  "latex_envs": {
   "LaTeX_envs_menu_present": true,
   "autoclose": false,
   "autocomplete": false,
   "bibliofile": "biblio.bib",
   "cite_by": "apalike",
   "current_citInitial": 1,
   "eqLabelWithNumbers": false,
   "eqNumInitial": 1,
   "hotkeys": {
    "equation": "Ctrl-E",
    "itemize": "Ctrl-I"
   },
   "labels_anchors": false,
   "latex_user_defs": false,
   "report_style_numbering": false,
   "user_envs_cfg": false
  }
 },
 "nbformat": 4,
 "nbformat_minor": 4
}
