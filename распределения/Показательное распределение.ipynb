{
 "cells": [
  {
   "cell_type": "markdown",
   "metadata": {},
   "source": [
    "### Показательное распределение"
   ]
  },
  {
   "cell_type": "code",
   "execution_count": 40,
   "metadata": {},
   "outputs": [],
   "source": [
    "from sympy import *\n",
    "import matplotlib.pyplot as plt \n",
    "import scipy.stats as sts\n",
    "import numpy as np "
   ]
  },
  {
   "cell_type": "markdown",
   "metadata": {},
   "source": [
    "Непрерывная случайная величина $\\xi$ имеет ***показательный (или экспоненциальный) закон распределения***, если ее плотность вероятности имеет вид\n",
    "$\n",
    "\\begin{equation*}\n",
    "  p(x)=\\begin{cases}\n",
    "   0,\\; x<0\\\\\n",
    "   \\lambda e^{-\\lambda x}, \\; x \\geq 0\\\\\n",
    " \\end{cases} \n",
    "\\end{equation*},  \\text{ где } \\lambda > 0 \\\\\n",
    "$\n",
    "\n",
    "$E(x)=\\int_{0}^{\\infty}x \\lambda e^{-\\lambda x} dx=\\frac{1}{\\lambda}; \\; D(x)=\\frac{1}{\\lambda^2}$\n"
   ]
  },
  {
   "cell_type": "code",
   "execution_count": 84,
   "metadata": {},
   "outputs": [
    {
     "data": {
      "image/png": "[encoded data removed]",
      "text/plain": [
       "<Figure size 432x288 with 1 Axes>"
      ]
     },
     "metadata": {
      "needs_background": "light"
     },
     "output_type": "display_data"
    }
   ],
   "source": [
    "xx = np.arange(1e-4, 5, 0.01)\n",
    "yy = sts.expon(loc=0, scale=1).pdf(xx)\n",
    "plt.xlabel('x', fontsize=20)\n",
    "plt.ylabel('p(x)', rotation=0, fontsize=20, labelpad=20)\n",
    "plt.yticks([0, 1, 2, 3, 4], (None, r'$\\lambda$', None, None), fontsize=12)\n",
    "plt.ylim((0, 1.5))\n",
    "plt.plot(xx, yy)\n",
    "plt.title('График плотности распределения p(x)')\n",
    "plt.show()"
   ]
  },
  {
   "cell_type": "markdown",
   "metadata": {},
   "source": [
    "***Функция распределения***\n",
    "\n",
    "$\n",
    "F_\\xi(x) \\overset{def}{=} \\int\\limits_{-\\infty}^{x}p(t)dt = \n",
    "    \\int\\limits_{-\\infty}^{0}0\\cdot dt +\n",
    "    \\int\\limits_{0}^{x}\\lambda e^{-\\lambda x}dt=1-e^{-\\lambda x}\n",
    "$\n",
    "\n",
    "$\n",
    "\\begin{equation*}\n",
    "  F(x)=\\begin{cases}\n",
    "   0,\\; x<0\\\\\n",
    "   1-\\lambda e^{-\\lambda x}, \\; x \\geq 0\\\\\n",
    " \\end{cases}, \\forall k=0,1, ...\n",
    "\\end{equation*},  \\text{ где } \\lambda > 0 \\\\\n",
    "$"
   ]
  },
  {
   "cell_type": "code",
   "execution_count": 81,
   "metadata": {
    "scrolled": true
   },
   "outputs": [
    {
     "data": {
      "image/png": "[encoded data removed]",
      "text/plain": [
       "<Figure size 432x288 with 1 Axes>"
      ]
     },
     "metadata": {
      "needs_background": "light"
     },
     "output_type": "display_data"
    }
   ],
   "source": [
    "xx = np.arange(1e-4, 6, 0.01)\n",
    "yy = sts.expon(loc=0, scale=1).cdf(xx)\n",
    "plt.xlabel('x', fontsize=20)\n",
    "plt.ylabel('F(x)', rotation=0, fontsize=20, labelpad=20)\n",
    "plt.plot(xx, yy)\n",
    "plt.title('График функции распределения F(x)')\n",
    "plt.show()"
   ]
  },
  {
   "cell_type": "markdown",
   "metadata": {},
   "source": [
    "$\n",
    "P\\{a<\\xi<b\\} = F(b)-F(a)=((1-e^{-\\lambda b})-(1-e^{-\\lambda a}))=e^{-\\lambda a}-e^{-\\lambda b}\n",
    "$"
   ]
  },
  {
   "cell_type": "markdown",
   "metadata": {},
   "source": [
    "Случайная величина T - время работы радиолампы имеет показательное распределение. Найти вероятность того, что лампа проработает не менее 800 часов, если среднее время работы радиолампы 400 часов."
   ]
  },
  {
   "cell_type": "markdown",
   "metadata": {},
   "source": [
    "$\n",
    "x := T, E_\\xi(x)=400 \\Rightarrow \\lambda = \\frac{1}{400}\\\\\n",
    "P\\{x \\geq 800 \\} =1-P\\{x < 800 \\}=1-F_\\xi(800)=\n",
    "    1-(1-e^{-\\frac{800}{400}})=e^{-2}= 0.1353352832366127\n",
    "$"
   ]
  },
  {
   "cell_type": "code",
   "execution_count": 95,
   "metadata": {},
   "outputs": [
    {
     "data": {
      "text/plain": [
       "0.1353352832366127"
      ]
     },
     "execution_count": 95,
     "metadata": {},
     "output_type": "execute_result"
    }
   ],
   "source": [
    "np.exp(-2)"
   ]
  },
  {
   "cell_type": "code",
   "execution_count": 132,
   "metadata": {},
   "outputs": [
    {
     "name": "stdout",
     "output_type": "stream",
     "text": [
      "lambda =  0.0025 sigma 400.0\n",
      "Вероятность того, что лампа проработает не менее 800 часов 0.1353352832366127\n"
     ]
    }
   ],
   "source": [
    "E = 400\n",
    "lmbd = 1/E              # lambda\n",
    "D = (1/(lmbd**2)) \n",
    "sigma = np.sqrt(D)      # dispersion\n",
    "\n",
    "print('lambda = ', lmbd, 'sigma', sigma)\n",
    "\n",
    "rv = sts.expon(loc=0, scale=sigma)\n",
    "\n",
    "print('Вероятность того, что лампа проработает не менее 800 часов', rv.sf(800))"
   ]
  }
 ],
 "metadata": {
  "kernelspec": {
   "display_name": "Python 3",
   "language": "python",
   "name": "python3"
  },
  "language_info": {
   "codemirror_mode": {
    "name": "ipython",
    "version": 3
   },
   "file_extension": ".py",
   "mimetype": "text/x-python",
   "name": "python",
   "nbconvert_exporter": "python",
   "pygments_lexer": "ipython3",
   "version": "3.7.7"
  },
  "latex_envs": {
   "LaTeX_envs_menu_present": true,
   "autoclose": false,
   "autocomplete": false,
   "bibliofile": "biblio.bib",
   "cite_by": "apalike",
   "current_citInitial": 1,
   "eqLabelWithNumbers": false,
   "eqNumInitial": 1,
   "hotkeys": {
    "equation": "Ctrl-E",
    "itemize": "Ctrl-I"
   },
   "labels_anchors": false,
   "latex_user_defs": false,
   "report_style_numbering": false,
   "user_envs_cfg": false
  }
 },
 "nbformat": 4,
 "nbformat_minor": 4
}
