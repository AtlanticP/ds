{
 "cells": [
  {
   "cell_type": "code",
   "execution_count": 1,
   "metadata": {},
   "outputs": [],
   "source": [
    "import matplotlib.pyplot as plt\n",
    "import math\n",
    "import sympy as sp\n",
    "import numpy as np\n",
    "import scipy.stats as sts\n",
    "plt.style.use(\"dark_background\")"
   ]
  },
  {
   "cell_type": "markdown",
   "metadata": {},
   "source": [
    "***15***\n",
    "$$\n",
    "\\boxed{f(-x)=f(x)} \\Rightarrow\n",
    "    \\int\\limits_{-a}^{a}f(-x)dx = 2\\cdot\\int\\limits_{0}^{a}f(x)dx  \n",
    "$$\n",
    "$$\n",
    "\\int\\limits_{-a}^{0}f(x)dx = [x=-t, dx=-dt]= -\\int\\limits_{a}^{0}f(-t)dt  = \\int\\limits_{0}^{a}f(t)dt\n",
    "$$\n",
    "\n",
    "$$\n",
    "\\int\\limits_{-a}^{a}f(x)dx = \\int\\limits_{-a}^{0}f(x)dx + \\int\\limits_{0}^{a}f(x)dx = \n",
    "2\\cdot\\int\\limits_{0}^{a}f(x)dx \n",
    "$$\n",
    "\n",
    "$$\\boxed{f(x)=-f(x)} \\Rightarrow \\int\\limits_{-a}^{a}f(x)dx = 0$$\n",
    "\n",
    "$$\n",
    "\\int\\limits_{-a}^{0}f(x)dx = [x=-t, dx=-dt]= -\\int\\limits_{a}^{0}f(-t)dt  = \\int\\limits_{0}^{a}f(-t)dt = -\\int\\limits_{0}^{a}f(t)dt\n",
    "$$\n",
    "$$\n",
    "\\int\\limits_{-a}^{a}f(x)dx = \\int\\limits_{-a}^{0}f(x)dx - \\int\\limits_{0}^{a}f(x)dx = 0\n",
    "$$\n"
   ]
  },
  {
   "cell_type": "markdown",
   "metadata": {},
   "source": [
    "***14***\n",
    "$$\\boxed {MD\\overline X \\neq DX} \\notag$$\n",
    "***Теорема** Если случайная выборка состоит из $n$ независимых наблюдений над случайной величиной $Х$ с математическим ожиданием и дисперсией, то выборочная дисперсия не является несмещённой оценкой генеральной дисперсии.\n",
    "<a name=\"bessels_correction\"></a>\n",
    "$\n",
    "X \\sim N(a, \\sigma), \\{X_i\\}_{i=1}^n: \\; \\forall i=\\overline{1, n}\\; X_i \\sim N(a, \\sigma), \n",
    "   \\; \\overline{X} = \\frac{1}{n}\\sum\\limits_{i=1}^{n}X_i \\Rightarrow\n",
    "$\n",
    "<ul>\n",
    "    <li>$MX_i=MX=a, \\; DX_i=DX=\\sigma^2$\n",
    "    </li>\n",
    "    <li>\n",
    "    $M\\overline X = M\\bigg(\\frac{1}{n}\\sum\\limits_{i=1}^{n}X_i\\bigg)=a, \\;\n",
    "    D\\overline X = D\\bigg(\\frac{1}{n}\\sum\\limits_{i=1}^{n}X_i\\bigg)=\n",
    "        \\frac{\\sigma_X^2}{n} \\Rightarrow \\sigma_{\\overline X} = \n",
    "    \\frac{\\sigma_X}{\\sqrt n}$\n",
    "    </li>\n",
    "    <li>\n",
    "        $\n",
    "\\sum\\limits_{i=1}^{n}(X_i - a)=\\sum\\limits_{i=1}^{n}X_i - n\\cdot a=\n",
    "   n\\cdot \\big(\\frac{1}{n}\\sum\\limits_{i=1}^{n}X_i - a\\big)=\n",
    "   n\\cdot (\\overline x-a)\n",
    "        $\n",
    "    </li>\n",
    "    <li>\n",
    "        $\n",
    "\\frac{1}{n}\\sum\\limits_{i=1}^{n}(X_i - \\overline X )^2=\n",
    "    \\frac{1}{n}\\sum\\limits_{i=1}^{n}((X_i - a) - (\\overline X - a) )^2 = \\\\\n",
    "    = \\frac{1}{n}\\sum\\limits_{i=1}^{n}(X_i - a)^2 - \n",
    "        \\frac{2}{n}(\\overline X - a)\\sum\\limits_{i=1}^{n}(X_i - a) +\n",
    "        \\frac{1}{n}\\sum\\limits_{i=1}^{n}(\\overline X - a)^2 = \\\\\n",
    "     = \\frac{1}{n}\\sum\\limits_{i=1}^{n}(X_i - a)^2 - (\\overline X - a)^2\n",
    "        $\n",
    "    </li>\n",
    "</ul>\n",
    "\n",
    "$\n",
    "M\\big(\\frac{1}{n}\\sum\\limits_{i=1}^{n}(X_i - \\overline X)^2 \\big) =\n",
    "  M\\big(\\frac{1}{n}\\sum\\limits_{i=1}^{n}(X_i - a)^2 - (\\overline X - a)^2\\big) = \\\\\n",
    "  = \\frac{1}{n}\\sum\\limits_{i=1}^{n}M(X_i - a)^2- M((\\overline X - a)^2)=\n",
    "  \\frac{1}{n}\\sum\\limits_{i=1}^{n}DX-M((\\overline X - a)^2)= \\\\\n",
    "  = DX- D\\overline X = \\sigma^2 - \\frac{\\sigma^2}{n}=\\frac{n-1}{n}\\cdot \\sigma^2    \n",
    "  \\Rightarrow MD\\overline X \\neq DX\n",
    "$"
   ]
  },
  {
   "cell_type": "markdown",
   "metadata": {},
   "source": [
    "***13***\n",
    "$$\\boxed{P\\bigg(\\overline X - \\frac{t\\cdot\\sigma_{x}}{\\sqrt n} \\leq a \\leq\n",
    "    \\overline X + \\frac{t\\cdot\\sigma_{x}}{\\sqrt n}  \\bigg) = \\gamma} \\notag$$\n",
    "$\n",
    "X \\sim N(a, \\sigma), \\{X_i\\}_{i=1}^n: \\; \\forall i=\\overline{1, n}\\; X_i \\sim N(a, \\sigma), \n",
    "   \\; \\overline{X} = \\frac{1}{n}\\sum\\limits_{i=1}^{n}X_i \\Rightarrow\n",
    "$\n",
    "<ul>\n",
    "    <li>$MX_i=MX=a, \\; DX_i=DX=\\sigma^2$\n",
    "    </li>\n",
    "    <li>\n",
    "    $M\\overline X = M\\bigg(\\frac{1}{n}\\sum\\limits_{i=1}^{n}X_i\\bigg)=a, \\;\n",
    "    D\\overline X = D\\bigg(\\frac{1}{n}\\sum\\limits_{i=1}^{n}X_i\\bigg)=\n",
    "        \\frac{\\sigma_X^2}{n} \\Rightarrow \\sigma_{\\overline X} = \n",
    "    \\frac{\\sigma_X}{\\sqrt n}$\n",
    "    </li>    \n",
    "    <li>$\\overline X \\sim N\\big(a, \\frac{\\sigma}{\\sqrt n}\\big)$\n",
    "    </li>\n",
    "</ul>\n",
    "\n",
    "$$\\gamma = P(|\\overline X - a|<\\varepsilon) = \n",
    "    2\\Phi_0\\big(\\frac{\\varepsilon}{\\sigma_{\\overline x}}\\big)=\n",
    "    P\\big(|\\overline x -a|<\\frac{t\\cdot\\sigma_{x}}{\\sqrt n}\\big) =\n",
    "   2\\Phi_0(t)$$   \n",
    " где $t = \\frac{\\varepsilon \\sqrt{n}}{\\sigma_x}, \\; \n",
    "    t=\\Phi_0^{-1}\\big(\\frac{\\gamma}{2}\\big)$\n",
    "    \n",
    "$$P\\bigg(\\overline X - \\frac{t\\cdot\\sigma_{x}}{\\sqrt n} \\leq a \\leq\n",
    "    \\overline X + \\frac{t\\cdot\\sigma_{x}}{\\sqrt n}  \\bigg) = \\gamma, \\notag$$\n",
    "где  доверительный интервал для $a = MX$ есть \n",
    "$\\bigg(\\overline X - \\frac{t\\cdot\\sigma_{x}}{\\sqrt n}, \n",
    "       \\overline X + \\frac{t\\cdot\\sigma_{x}}{\\sqrt n}\\bigg)$"
   ]
  },
  {
   "cell_type": "markdown",
   "metadata": {},
   "source": [
    "***12***\n",
    "\n",
    "Пусть СВ $ \\sim N(a, \\sigma); \\; \\sigma\\;-$ известна, доверительная вероятность (надежность) $\\gamma - $ задана.\n",
    "\n",
    "Пусть $x_1, x_2, ..., x_n$ - выборка, полученная в результате проведения $n$ независимых наблюдений за СВ $X$. Чтобы подчеркнуть случайных характер величин $x_1, x_2, ..., x_n$, перепишем их в виде $X_1, X_2, ..., X_n$, т.е. под $X_i$ будем понимать значение СВ $X$ в $i$-ом опыте. Случайные величины $X_1, X_2, ..., X_n - $  независимы, закон распределения совпадает с законом распределения СВ $X$ (т.е. $X_i \\sim N(a, \\sigma)$). А это значит, что $MX_1=MX_2=...=MX_n=MX=a, \\; DX_1=DX_2=...=DX_n=DX.$\n",
    "\n",
    "Выборочное среднее $\\overline{X_в}=\\overline{X}=\\frac{1}{n}\\sum\\limits_{i=1}^{n}X_i$ также будем распределено по нормлаьному закону. Параметры распределения $\\overline{X}$ таковы:\n",
    "$$\\notag M\\overline X = M\\bigg(\\frac{1}{n} \\sum\\limits_{i=1}^{n}X_i\\bigg)=\n",
    "    \\frac{1}{n} M\\bigg(\\sum\\limits_{i=1}^{n}X_i\\bigg)=\n",
    "     \\frac{1}{n} \\sum\\limits_{i=1}^{n}MX_i=\\frac{1}{n} \\cdot n \\cdot a = a$$\n",
    "     \n",
    "$$\\notag D\\overline X = D\\bigg(\\frac{1}{n} \\sum\\limits_{i=1}^{n}X_i\\bigg)=\n",
    "    \\frac{1}{n^2} D\\bigg(\\sum\\limits_{i=1}^{n}X_i\\bigg)=\n",
    "     \\frac{1}{n^2} \\sum\\limits_{i=1}^{n}DX_i=\\frac{1}{n^2} \\cdot n \\cdot DX = \n",
    "     \\frac{\\sigma^2}{n}$$"
   ]
  },
  {
   "cell_type": "markdown",
   "metadata": {},
   "source": [
    "***11.*** \n",
    "***Теорема.*** Пусть $X_1, X_2, ..., X_n$ - выборка из генеральной совокупности и $MX_i=Mx=a,$ $DX_i=DX \\; (i=\\overline{1,n}).$ Тогда исправленная выборочная дисперсия \n",
    "$S^2= \\frac{n}{n-1}\\cdot \\sum\\limits_{i=1}^{k}(x_i-\\overline{x_B})=\n",
    "    \\frac{n}{n-1}\\cdot D_в$ - несмещенная состоятельная оценка дисперсии $DX$.\n",
    "    \n",
    " $MS^2 = M\\bigg(\\frac{n}{n-1}\\cdot D_в \\bigg)=\\frac{n}{n-1}\\cdot MD_в=\n",
    "     \\frac{n}{n-1}\\cdot\\frac{n-1}{n}\\cdot DX = DX$"
   ]
  },
  {
   "cell_type": "code",
   "execution_count": null,
   "metadata": {},
   "outputs": [],
   "source": [
    "xx = np.arange(-3, 3, 0.01)\n",
    "fig, ax = plt.subplots(1, 2, figsize=(13, 3))\n",
    "phi = lambda t: math.erf(t/2**0.5)/2\n",
    "yy = [phi(x) for x in xx]\n",
    "ax[0].plot(xx, yy, label='$\\Phi_0(x)$')\n",
    "yy = sts.norm.cdf(xx)\n",
    "ax[1].plot(xx, yy, label='$\\Phi(x)$')\n",
    "ax[0].legend(), ax[1].legend()\n",
    "fig.suptitle('Сравнение функций распределения $\\Phi(x)$ и $\\Phi_0(x)$')\n",
    "plt.show()"
   ]
  },
  {
   "cell_type": "markdown",
   "metadata": {},
   "source": [
    "***10.***\n",
    "$$\\Phi_0(-x)=-\\Phi_0(x)  \\notag$$\n",
    "$\n",
    "\\Phi_0(-x) =\\frac{1}{\\sqrt{2\\pi}}\\int\\limits_{0}^{-x}e^{-\\frac{t^2}{2}}dt =\n",
    "   \\bigg[z = -t, dz = -dt \\bigg] = \n",
    "   -\\frac{1}{\\sqrt{2\\pi}}\\int\\limits_{0}^{x}e^{-\\frac{z^2}{2}}dz = -\\Phi_0(x)\n",
    "$"
   ]
  },
  {
   "cell_type": "markdown",
   "metadata": {},
   "source": [
    "***9.***\n",
    "С помощью функции Лапласа можно найти вероятность отклонения относительной частоты $\\frac{n_A}{n}$ от вероятности $p$ в $n$ независимых испытаниях. Имеет место формула\n",
    "$$ P\\bigg\\{\\bigg|\\frac{n_A}{n} - p \\bigg| \\leq \\varepsilon \\bigg\\} = \n",
    "    2\\Phi_0\\bigg( \\varepsilon \\cdot \\sqrt{\\frac{n}{pq}}\\bigg),$$ \n",
    "    $\\forall \\; \\varepsilon > 0$ - некоторое число.\n",
    "\n",
    "$\n",
    "\\bigg|\\frac{n_A}{n} - p \\bigg| \\leq \\varepsilon  \\Rightarrow \n",
    "    -\\varepsilon \\leq \\frac{n_A}{n} - p \\leq \\varepsilon \\Rightarrow \\\\\n",
    "    \\Rightarrow  P_n\\{ np - n\\varepsilon \\leq n_A  \\leq np + n\\varepsilon \\} \\approx \n",
    "    \\frac{1}{\\sqrt{2\\pi}}\\displaystyle\\int\\limits_{-\\varepsilon \\cdot \\sqrt{\\frac{n}{pq}}}^{\\varepsilon \\cdot \\sqrt{\\frac{n}{pq}}}e^{-\\frac{t^2}{2}}dt = \n",
    "    \\frac{2}{\\sqrt{2\\pi}}\\displaystyle\\int\\limits_{0}^{\\varepsilon \\cdot \\sqrt{\\frac{n}{pq}}}e^{-\\frac{t^2}{2}}dt = 2\\Phi_0\\bigg( \\varepsilon \\cdot \\sqrt{\\frac{n}{pq}}\\bigg)\n",
    "$"
   ]
  },
  {
   "cell_type": "markdown",
   "metadata": {},
   "source": [
    "**8.**  $\\; p(1-p) \\leq \\frac{1}{4}$\n",
    "\n",
    "$p(1-p) = p - p^2 = \\frac{1}{4} - (p-\\frac{1}{2})^2 \\leq \\frac{1}{4}$"
   ]
  },
  {
   "cell_type": "markdown",
   "metadata": {},
   "source": [
    "***7*** (Письменный, 1.16, уп. 3 стр 43) Надежность (т.е. вероятность безотказной работы) прибора равна 0.7 Для повышения надеждности данного прибора он дублируется (n-1) другими такими же приборами. Сколько приборов надо взять, чтобы повысить его надежность до 0.95?\n",
    "<img src='media/instrument_chain.jpg' width='100' height='200'>\n",
    "\n",
    "Пусть $p$-надежность прибора, $q$ - вероятность выхода из строя одного прибора, $n$ - кол-во приборов. Тогда вероятность выхода из строя всех n приборов из строя равна $q^n$. Следовательностно вероятность безотказной работы равна $1 - q^n$, т.е. \n",
    "$1 - q^n \\geq 0.95 \\Rightarrow q^n \\leq 0.05 \\Rightarrow n\\cdot lnq \\leq ln0.05 \\Rightarrow n \\geq \\frac{ln0.05}{ln0.3}\\approx2.488$"
   ]
  },
  {
   "cell_type": "markdown",
   "metadata": {},
   "source": [
    "***6***   $\\quad \\xi \\sim N(\\mu, \\sigma), \\; P\\{\\alpha < \\xi < \\beta \\} \\; ?$\n",
    "\n",
    "$\n",
    "P\\{\\alpha < \\xi < \\beta \\} = \\frac{1}{\\sigma\\sqrt{2\\pi}} \\int\\limits_{\\alpha}^{\\beta}e^{-\\frac{(x-\\mu)^2}{2\\sigma^2}}dx = \\bigg[ t = \\frac{x-\\mu}{\\sigma}\\bigg] \n",
    "    = \\frac{1}{\\sqrt{2\\pi}} \\int\\limits_{\\frac{\\alpha-\\mu}{\\sigma}}^{\\frac{\\beta-\\mu}{\\sigma}}e^{-\\frac{t^2}{2}} dt \n",
    "    = \\frac{1}{\\sqrt{2\\pi}} \\int\\limits_{0}^{\\frac{\\beta-\\mu}{\\sigma}}e^{-\\frac{t^2}{2}} dt -\n",
    "    \\frac{1}{\\sqrt{2\\pi}} \\int\\limits_{0}^{\\frac{\\alpha-\\mu}{\\sigma}}e^{-\\frac{t^2}{2}}dt \\Rightarrow \\Phi_0\\bigg(\\frac{\\beta-\\mu}{\\sigma}\\bigg)-\\Phi_0\\bigg(\\frac{\\alpha-\\mu}{\\sigma}\\bigg),$\n",
    "где $\\Phi_0=\\frac{1}{\\sqrt{2\\pi}} \\int\\limits_{0}^{x}e^{-\\frac{t^2}{2}}dt$ - функция Лапласа\n"
   ]
  },
  {
   "cell_type": "markdown",
   "metadata": {},
   "source": [
    "***5*** $\\Phi_0(x) \\;?\\; erf (x)$\n",
    "\n",
    "$erf(x)=\\frac{2}{\\sqrt{\\pi}}\\;?\\;\\frac{1}{\\sqrt{2\\pi}}\\int\\limits_{0}^{z}e^{-\\frac{u^2}{2}}du$  - решение с помощью функции ошибки библотеки **scipy** , где \n",
    "\n",
    "$\n",
    "erf(x)=\\frac{2}{\\sqrt{\\pi}} \\int\\limits_{0}^{x} e^{-t^2}dt  \\Rightarrow\n",
    "    \\Phi_0(x) = [t=\\frac{u}{\\sqrt{2}}, \\; dt = \\frac{1}{\\sqrt{2}}du] \n",
    "= (\\frac{2}{\\sqrt{2\\pi}}\\int\\limits_{0}^{z}e^{-\\frac{u^2}{2}}du) \\cdot \\frac{1}{2} \\Rightarrow \\\\ \n",
    "\\boxed{\\Phi_0(x)= \\frac{1}{2} erf \\bigg(\\frac{x}{\\sqrt{2}}\\bigg)} \n",
    "    \\Rightarrow lambda \\; x: erf(\\frac{x}{\\sqrt{2}})/2\n",
    "$"
   ]
  },
  {
   "cell_type": "markdown",
   "metadata": {},
   "source": [
    "***4*** \n",
    "\n",
    "$\\Phi_\\xi(x) \\; ? \\; \\Phi_0(x)$ - перепроверить, возможно неверно\n",
    "$\n",
    "\\Phi_\\xi(x)= \\frac{1}{\\sqrt{2\\pi}}\\int\\limits_{-\\infty}^{x} e^{-\\frac{x^2}{2}}dx=\n",
    "  \\frac{1}{\\sqrt{2\\pi}}\\int\\limits_{-\\infty}^{0} e^{-\\frac{x^2}{2}}dx =\n",
    "  \\frac{1}{\\sqrt{2\\pi}}\\int\\limits_{0}^{x} e^{-\\frac{x^2}{2}}dx =\n",
    "  \\frac{1}{\\sqrt{2\\pi}} \\cdot \\sqrt{\\frac{\\pi}{2}} = \\\\ \\frac{1}{2} + \\Phi_0(x)$  $$\\boxed{\\Phi_\\xi(x) = \\frac{1}{2} + \\Phi_0(x)}$$\n"
   ]
  },
  {
   "cell_type": "markdown",
   "metadata": {},
   "source": [
    "***3. Плотность нормального распределения***\n",
    "$\\int\\limits_{-\\infty}^{\\infty} \\frac{1}{\\sigma \\cdot \\sqrt{2\\pi}}e^{-\\frac{(x-\\mu)^2}{2\\sigma^2}}dx = \n",
    "    \\frac{1}{\\sigma \\cdot \\sqrt{2\\pi}}\\int\\limits_{-\\infty}^{\\infty}e^{-\\frac{(x-\\mu)^2}{2\\sigma^2}}dx =\n",
    "    \\frac{\\sigma \\cdot\\sqrt{2}}{\\sigma \\cdot \\sqrt{2\\pi}}\\int\\limits_{-\\infty}^{\\infty}e^{-\\frac{(x-\\mu)^2}{2\\sigma^2}}d\\bigg(\\frac{x-\\mu}{\\sqrt{2}\\cdot \\sigma} \\bigg)= \\\\\n",
    "     =\\frac{1}{\\sqrt{\\pi}}\\int\\limits_{-\\infty}^{\\infty}e^{-t^2}dt =\n",
    "     \\frac{1}{\\sqrt{\\pi}} \\cdot \\ \\sqrt{\\pi} = 1 \\Rightarrow \n",
    "     \\int\\limits_{-\\infty}^{0}e^{-t^2}dt  = \\frac{\\sqrt{\\pi}}{2}, \n",
    "     \\int\\limits_{-\\infty}^{0}e^{-\\frac{z^2}{2}}dz  = \n",
    "     \\sqrt{\\frac{\\pi}{2}} = \n",
    "     \\int\\limits_{0}^{\\infty} e^{-\\frac{z^2}{2}}dz\n",
    "$     "
   ]
  },
  {
   "cell_type": "markdown",
   "metadata": {},
   "source": [
    "***2. Ряд квадратов натуральных чисел $S_n =  \\sum\\limits_{k=1}^{n} k^2?$*** \n",
    "\n",
    "$(k+1)^3=k^3+3k^2+3k+1^3$\n",
    "\n",
    "$\n",
    "\\begin{array}{|c|c|}\n",
    "\\hline\n",
    "k = 1 &     2^3 = 1^3+3\\cdot1^2+3\\cdot 1+1^3  \\\\\\hline\n",
    "% k = 2 & k^3+3k^2+3k+1^3  \\\\\\hline\n",
    "...   & ...  \\\\\\hline\n",
    "k = n & (n+1)^3 = n^3+3n^2+3n+1^3  \\\\\\hline\n",
    "\\end{array} \\Rightarrow \\\\\n",
    " \\Rightarrow 2^3+...+(n+1)^3 = 1^3+...+n^3 +\n",
    "         3(\\sum\\limits_{k=1}^{n} k^2)+3(\\sum\\limits_{k=1}^{n} k) + n \\Rightarrow \\\\ \\Rightarrow 3S_n = (n+1)^3 - 3(\\sum\\limits_{k=1}^{n} k) - (n+1), \\text{ где } S_n =  \\sum\\limits_{k=1}^{n} k^2 \\Rightarrow \\\\ \n",
    "\\Rightarrow 3S_n = (n+1)^3 - \\frac{3}{2}n(n+1) - (n+1) = (n+1)(...) \n",
    "\\Rightarrow \\\\ \\Rightarrow \\boxed{S_n = \\frac{n(n+1)(2n+1)}{6}}\n",
    "$"
   ]
  },
  {
   "cell_type": "markdown",
   "metadata": {},
   "source": [
    "***1***\n",
    "***Ряд геометрической [прогрессии](https://www.youtube.com/watch?v=QHnQtDYsA1o)***:\n",
    "\n",
    "$b_n = b_1q^{n-1} \\Rightarrow qS_n = qb_1+...qb_{n-1}+qb_n=b_2+...+b_n+qb_n \\Rightarrow \\\\ \\Rightarrow\n",
    "qS_n=S_n-b_1+qb_n \\Rightarrow S_n=\\frac{qb_n-b_1}{q-1} \\Rightarrow \\boxed{S_n=\\frac{b_1(q^n-1)}{q-1} \\Leftrightarrow S_n=\\frac{b_1(1-q^n)}{1-q}}$\n",
    "\n",
    "$\n",
    "\\sum\\limits_{n=1}^{\\infty}q^n=\\lim\\limits_{n\\to\\infty}\n",
    "\\sum\\limits_{k=1}^{n}q^k = \\lim\\limits_{n\\to\\infty}\\frac{1-q^n}{1-q} = \n",
    "\\frac{1}{1-q} - \\lim\\limits_{n\\to\\infty}\\frac{q^n}{1-q}=\n",
    "\\begin{cases}\n",
    "      \\infty \\text{, если } |x|\\geq 1 \\\\\n",
    "      \\frac{1}{1-q}  \\text{, если } |x| < 1 \\\\\n",
    "    \\end{cases}\n",
    "$\n"
   ]
  }
 ],
 "metadata": {
  "kernelspec": {
   "display_name": "Python 3",
   "language": "python",
   "name": "python3"
  },
  "language_info": {
   "codemirror_mode": {
    "name": "ipython",
    "version": 3
   },
   "file_extension": ".py",
   "mimetype": "text/x-python",
   "name": "python",
   "nbconvert_exporter": "python",
   "pygments_lexer": "ipython3",
   "version": "3.7.7"
  },
  "latex_envs": {
   "LaTeX_envs_menu_present": true,
   "autoclose": false,
   "autocomplete": true,
   "bibliofile": "biblio.bib",
   "cite_by": "apalike",
   "current_citInitial": 1,
   "eqLabelWithNumbers": false,
   "eqNumInitial": 1,
   "hotkeys": {
    "equation": "Ctrl-E",
    "itemize": "Ctrl-I"
   },
   "labels_anchors": false,
   "latex_user_defs": false,
   "report_style_numbering": false,
   "user_envs_cfg": false
  }
 },
 "nbformat": 4,
 "nbformat_minor": 4
}
