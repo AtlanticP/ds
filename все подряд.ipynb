{
 "cells": [
  {
   "cell_type": "markdown",
   "metadata": {},
   "source": [
    "***7*** (Письменный, 1.16, уп. 3 стр 43) Надежность (т.е. вероятность безотказной работы) прибора равна 0.7 Для повышения надеждности данного прибора он дублируется (n-1) другими такими же приборами. Сколько приборов надо взять, чтобы повысить его надежность до 0.95?\n",
    "<img src='media/instrument_chain.jpg' width='100' height='200'>\n",
    "\n",
    "Пусть $p$-надежность прибора, $q$ - вероятность выхода из строя одного прибора, $n$ - кол-во приборов. Тогда вероятность выхода из строя всех n приборов из строя равна $q^n$. Следовательностно вероятность безотказной работы равна $1 - q^n$, т.е. \n",
    "$1 - q^n \\geq 0.95 \\Rightarrow q^n \\leq 0.05 \\Rightarrow n\\cdot lnq \\leq ln0.05 \\Rightarrow n \\geq \\frac{ln0.05}{ln0.03}\\approx2.488$"
   ]
  },
  {
   "cell_type": "markdown",
   "metadata": {},
   "source": [
    "***6***   $\\quad \\xi \\sim N(\\mu, \\sigma), \\; P\\{\\alpha < \\xi < \\beta \\} \\; ?$\n",
    "\n",
    "$\n",
    "P\\{\\alpha < \\xi < \\beta \\} = \\frac{1}{\\sigma\\sqrt{2\\pi}} \\int\\limits_{\\alpha}^{\\beta}e^{-\\frac{(x-\\mu)^2}{2\\sigma^2}}dx = \\bigg[ t = \\frac{x-\\mu}{\\sigma}\\bigg] \n",
    "    = \\frac{1}{\\sqrt{2\\pi}} \\int\\limits_{\\frac{\\alpha-\\mu}{\\sigma}}^{\\frac{\\beta-\\mu}{\\sigma}}e^{-\\frac{t^2}{2}} dt \n",
    "    = \\frac{1}{\\sqrt{2\\pi}} \\int\\limits_{0}^{\\frac{\\beta-\\mu}{\\sigma}}e^{-\\frac{t^2}{2}} dt -\n",
    "    \\frac{1}{\\sqrt{2\\pi}} \\int\\limits_{0}^{\\frac{\\alpha-\\mu}{\\sigma}}e^{-\\frac{t^2}{2}}dt \\Rightarrow \\Phi_0\\bigg(\\frac{\\beta-\\mu}{\\sigma}\\bigg)-\\Phi_0\\bigg(\\frac{\\alpha-\\mu}{\\sigma}\\bigg),$\n",
    "где $\\Phi_0=\\frac{1}{\\sqrt{2\\pi}} \\int\\limits_{0}^{x}e^{-\\frac{t^2}{2}}dt$ - функция Лапласа\n"
   ]
  },
  {
   "cell_type": "markdown",
   "metadata": {},
   "source": [
    "***5*** $\\Phi_0(x) \\;?\\; erf (x)$\n",
    "\n",
    "$erf(x)=\\frac{2}{\\sqrt{\\pi}}\\;?\\;\\frac{1}{\\sqrt{2\\pi}}\\int\\limits_{0}^{z}e^{-\\frac{u^2}{2}}du$  - решение с помощью функции ошибки библотеки **scipy** , где \n",
    "\n",
    "$\n",
    "erf(x)=\\frac{2}{\\sqrt{\\pi}} \\int\\limits_{0}^{x} e^{-t^2}dt  \\Rightarrow\n",
    "    \\Phi_0(x) = [t=\\frac{u}{\\sqrt{2}}, \\; dt = \\frac{1}{\\sqrt{2}}du] \n",
    "= (\\frac{2}{\\sqrt{2\\pi}}\\int\\limits_{0}^{z}e^{-\\frac{u^2}{2}}du) \\cdot \\frac{1}{2} \\Rightarrow \\\\ \n",
    "\\boxed{\\Phi_0(x)= \\frac{1}{2} erf \\bigg(\\frac{x}{\\sqrt{2}}\\bigg)} \n",
    "    \\Rightarrow lambda \\; x: erf(\\frac{x}{\\sqrt{2}})/2\n",
    "$"
   ]
  },
  {
   "cell_type": "markdown",
   "metadata": {},
   "source": [
    "***4*** \n",
    "\n",
    "$\\Phi_\\xi(x) \\; ? \\; \\Phi_0(x)$ - перепроверить, возможно неверно\n",
    "$\n",
    "\\Phi_\\xi(x)= \\frac{1}{\\sqrt{2\\pi}}\\int\\limits_{-\\infty}^{x} e^{-\\frac{x^2}{2}}dx=\n",
    "  \\frac{1}{\\sqrt{2\\pi}}\\int\\limits_{-\\infty}^{0} e^{-\\frac{x^2}{2}}dx =\n",
    "  \\frac{1}{\\sqrt{2\\pi}}\\int\\limits_{0}^{x} e^{-\\frac{x^2}{2}}dx =\n",
    "  \\frac{1}{\\sqrt{2\\pi}} \\cdot \\sqrt{\\frac{\\pi}{2}} = \\\\ \\frac{1}{2} + \\Phi_0(x)$  $$\\boxed{\\Phi_\\xi(x) = \\frac{1}{2} + \\Phi_0(x)}$$\n"
   ]
  },
  {
   "cell_type": "markdown",
   "metadata": {},
   "source": [
    "***3. Плотность нормального распределения***\n",
    "$\\int\\limits_{-\\infty}^{\\infty} \\frac{1}{\\sigma \\cdot \\sqrt{2\\pi}}e^{-\\frac{(x-\\mu)^2}{2\\sigma^2}}dx = \n",
    "    \\frac{1}{\\sigma \\cdot \\sqrt{2\\pi}}\\int\\limits_{-\\infty}^{\\infty}e^{-\\frac{(x-\\mu)^2}{2\\sigma^2}}dx =\n",
    "    \\frac{\\sigma \\cdot\\sqrt{2}}{\\sigma \\cdot \\sqrt{2\\pi}}\\int\\limits_{-\\infty}^{\\infty}e^{-\\frac{(x-\\mu)^2}{2\\sigma^2}}d\\bigg(\\frac{x-\\mu}{\\sqrt{2}\\cdot \\sigma} \\bigg)= \\\\\n",
    "     =\\frac{1}{\\sqrt{\\pi}}\\int\\limits_{-\\infty}^{\\infty}e^{-t^2}dt =\n",
    "     \\frac{1}{\\sqrt{\\pi}} \\cdot \\ \\sqrt{\\pi} = 1 \\Rightarrow \n",
    "     \\int\\limits_{-\\infty}^{0}e^{-t^2}dt  = \\frac{\\sqrt{\\pi}}{2}, \n",
    "     \\int\\limits_{-\\infty}^{0}e^{-\\frac{z^2}{2}}dz  = \n",
    "     \\sqrt{\\frac{\\pi}{2}} = \n",
    "     \\int\\limits_{0}^{\\infty} e^{-\\frac{z^2}{2}}dz\n",
    "$     "
   ]
  },
  {
   "cell_type": "markdown",
   "metadata": {},
   "source": [
    "***2. Ряд квадратов натуральных чисел $S_n =  \\sum\\limits_{k=1}^{n} k^2?$*** \n",
    "\n",
    "$(k+1)^3=k^3+3k^2+3k+1^3$\n",
    "\n",
    "$\n",
    "\\begin{array}{|c|c|}\n",
    "\\hline\n",
    "k = 1 &     2^3 = 1^3+31^2+3+1^3  \\\\\\hline\n",
    "% k = 2 & k^3+3k^2+3k+1^3  \\\\\\hline\n",
    "...   & ...  \\\\\\hline\n",
    "k = n & (n+1)^3 = n^3+3n^2+3n+1^3  \\\\\\hline\n",
    "\\end{array} \\Rightarrow \\\\\n",
    " \\Rightarrow 2^3+...+(n+1)^3 = 1^3+...+n^3 +\n",
    "         3(\\sum\\limits_{k=1}^{n} k^2)+3(\\sum\\limits_{k=1}^{n} k) + n \\Rightarrow \\\\ \\Rightarrow 3S_n = (n+1)^3 - 3(\\sum\\limits_{k=1}^{n} k) - (n+1), \\text{ где } S_n =  \\sum\\limits_{k=1}^{n} k^2 \\Rightarrow \\\\ \n",
    "\\Rightarrow 3S_n = (n+1)^3 + \\frac{3}{2}n(n+1) - (n+1) = (n+1)(...) \n",
    "\\Rightarrow \\\\ \\Rightarrow \\boxed{S_n = \\frac{n(n+1)(2n+1)}{6}}\n",
    "$"
   ]
  },
  {
   "cell_type": "markdown",
   "metadata": {},
   "source": [
    "***1***\n",
    "***Ряд геометрической [прогрессии](https://www.youtube.com/watch?v=QHnQtDYsA1o)***:\n",
    "\n",
    "$b_n = b_1q^{n-1} \\Rightarrow qS_n = qb_1+...qb_{n-1}+qb_n=b_2+...+b_n+qb_n \\Rightarrow \\\\ \\Rightarrow\n",
    "qS_n=S_n-b_1+qb_n \\Rightarrow S_n=\\frac{qb_n-b_1}{q-1} \\Rightarrow \\boxed{S_n=\\frac{b_1(q^n-1)}{q-1} \\Leftrightarrow S_n=\\frac{b_1(1-q^n)}{1-q}}$\n",
    "\n",
    "$\n",
    "\\sum\\limits_{n=1}^{\\infty}q^n=\\lim\\limits_{n\\to\\infty}\n",
    "\\sum\\limits_{k=1}^{n}q^k = \\lim\\limits_{n\\to\\infty}\\frac{1-q^n}{1-q} = \n",
    "\\frac{1}{1-q} - \\lim\\limits_{n\\to\\infty}\\frac{q^n}{1-q}=\n",
    "\\begin{cases}\n",
    "      \\infty \\text{, если } |x|\\geq 1 \\\\\n",
    "      \\frac{1}{1-q}  \\text{, если } |x| < 1 \\\\\n",
    "    \\end{cases}\n",
    "$\n"
   ]
  }
 ],
 "metadata": {
  "kernelspec": {
   "display_name": "Python 3",
   "language": "python",
   "name": "python3"
  },
  "language_info": {
   "codemirror_mode": {
    "name": "ipython",
    "version": 3
   },
   "file_extension": ".py",
   "mimetype": "text/x-python",
   "name": "python",
   "nbconvert_exporter": "python",
   "pygments_lexer": "ipython3",
   "version": "3.7.7"
  },
  "latex_envs": {
   "LaTeX_envs_menu_present": true,
   "autoclose": false,
   "autocomplete": true,
   "bibliofile": "biblio.bib",
   "cite_by": "apalike",
   "current_citInitial": 1,
   "eqLabelWithNumbers": false,
   "eqNumInitial": 1,
   "hotkeys": {
    "equation": "Ctrl-E",
    "itemize": "Ctrl-I"
   },
   "labels_anchors": false,
   "latex_user_defs": false,
   "report_style_numbering": false,
   "user_envs_cfg": false
  }
 },
 "nbformat": 4,
 "nbformat_minor": 4
}
