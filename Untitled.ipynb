{
 "cells": [
  {
   "cell_type": "code",
   "execution_count": 3,
   "metadata": {
    "scrolled": true
   },
   "outputs": [
    {
     "data": {
      "text/plain": [
       "[<matplotlib.lines.Line2D at 0x7f06fbdb9c90>]"
      ]
     },
     "execution_count": 3,
     "metadata": {},
     "output_type": "execute_result"
    },
    {
     "data": {
      "image/png": "[encoded data removed]",
      "text/plain": [
       "<Figure size 432x288 with 1 Axes>"
      ]
     },
     "metadata": {
      "needs_background": "light"
     },
     "output_type": "display_data"
    }
   ],
   "source": [
    "import matplotlib.pyplot as plt\n",
    "import matplotlib as mpl\n",
    "mpl.use\n",
    "\n",
    "def f(n):\n",
    "    return 1/n\n",
    "\n",
    "s = 0\n",
    "yy = []\n",
    "nn = list(range(1, 100))\n",
    "\n",
    "for n in nn:\n",
    "    s += f(n)\n",
    "    yy.append(s)\n",
    "plt.plot(nn, yy)"
   ]
  },
  {
   "cell_type": "markdown",
   "metadata": {},
   "source": [
    "<ol>\n",
    "    \\item p(x)>0\n",
    "    <li>P(\\{x \\leq \\xi < x + dx \\}) = \\int\\limits_a^b\n",
    "                    </ol>"
   ]
  },
  {
   "cell_type": "code",
   "execution_count": null,
   "metadata": {},
   "outputs": [],
   "source": [
    "import numpy as np\n",
    "import pandas as pd"
   ]
  },
  {
   "cell_type": "code",
   "execution_count": 1,
   "metadata": {},
   "outputs": [],
   "source": []
  },
  {
   "cell_type": "code",
   "execution_count": 8,
   "metadata": {},
   "outputs": [
    {
     "data": {
      "text/plain": [
       "{'0': ['4', '7', '5'],\n",
       " '1': ['6', '10', '13'],\n",
       " '2': ['3', '3', '3'],\n",
       " '3': ['2', '1', '-']}"
      ]
     },
     "execution_count": 8,
     "metadata": {},
     "output_type": "execute_result"
    }
   ],
   "source": [
    "dct = {'0': ['4', '7', '5'], '1': ['6', '10', '13'], '2': ['3', '3', '3'], '3': ['2', '1', '-']}\n",
    "\n",
    "dct\n",
    "# pd.DataFrame(dct, index=[0])\n"
   ]
  },
  {
   "cell_type": "code",
   "execution_count": null,
   "metadata": {},
   "outputs": [],
   "source": []
  },
  {
   "cell_type": "code",
   "execution_count": null,
   "metadata": {},
   "outputs": [],
   "source": []
  },
  {
   "cell_type": "code",
   "execution_count": null,
   "metadata": {},
   "outputs": [],
   "source": []
  },
  {
   "cell_type": "code",
   "execution_count": null,
   "metadata": {},
   "outputs": [],
   "source": []
  },
  {
   "cell_type": "code",
   "execution_count": 5,
   "metadata": {},
   "outputs": [],
   "source": [
    "from sympy import *"
   ]
  },
  {
   "cell_type": "code",
   "execution_count": 29,
   "metadata": {},
   "outputs": [
    {
     "data": {
      "image/png": "[encoded data removed]",
      "text/latex": [
       "$\\displaystyle Mx^{2} + Mx My - 2 Mx x{\\left(\\omega \\right)} - Mx y{\\left(\\omega \\right)} - My x{\\left(\\omega \\right)} + x^{2}{\\left(\\omega \\right)} + x{\\left(\\omega \\right)} y{\\left(\\omega \\right)}$"
      ],
      "text/plain": [
       "  2                                            2               \n",
       "Mx  + Mx⋅My - 2⋅Mx⋅x(ω) - Mx⋅y(ω) - My⋅x(ω) + x (ω) + x(ω)⋅y(ω)"
      ]
     },
     "execution_count": 29,
     "metadata": {},
     "output_type": "execute_result"
    }
   ],
   "source": [
    "init_printing()\n",
    "w, Mx, My = symbols('omega Mx My')\n",
    "x, y = Function('x')(w) , Function('y')(w)\n",
    "cov = (x-Mx)*(y-My).subs(y, x+y).subs(My, Mx+My)\n",
    "# cov.expand()\n",
    "cov.expand()"
   ]
  },
  {
   "cell_type": "code",
   "execution_count": null,
   "metadata": {},
   "outputs": [],
   "source": []
  }
 ],
 "metadata": {
  "kernelspec": {
   "display_name": "Python 3",
   "language": "python",
   "name": "python3"
  },
  "language_info": {
   "codemirror_mode": {
    "name": "ipython",
    "version": 3
   },
   "file_extension": ".py",
   "mimetype": "text/x-python",
   "name": "python",
   "nbconvert_exporter": "python",
   "pygments_lexer": "ipython3",
   "version": "3.7.7"
  },
  "latex_envs": {
   "LaTeX_envs_menu_present": true,
   "autoclose": false,
   "autocomplete": true,
   "bibliofile": "biblio.bib",
   "cite_by": "apalike",
   "current_citInitial": 1,
   "eqLabelWithNumbers": false,
   "eqNumInitial": 1,
   "hotkeys": {
    "equation": "Ctrl-E",
    "itemize": "Ctrl-I"
   },
   "labels_anchors": false,
   "latex_user_defs": false,
   "report_style_numbering": false,
   "user_envs_cfg": false
  }
 },
 "nbformat": 4,
 "nbformat_minor": 4
}
