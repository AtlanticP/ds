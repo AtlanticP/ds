{
 "cells": [
  {
   "cell_type": "markdown",
   "metadata": {},
   "source": [
    "$P\\{k_1 \\leq m \\leq k_2 \\} \\approx \\frac{1}{\\sqrt{2\\pi}}\\int\\limits_{x_1}^{x_2}e^{-\\frac{x^2}{2}}dx$"
   ]
  },
  {
   "cell_type": "markdown",
   "metadata": {},
   "source": [
    "***Теорема (локальная теорема Муавра-Лапласа).***  Если вероятность $p$ наступления события $A$ $(P(A)=p,\\;P(\\overline A)=q)$ в каждом испытании постоянна и отлична от нуля и единицы, а число независимых испытаний достаточно велико, то вероятность $P_n(m)$ может быть вычислена по приближенной формуле\n",
    "$$ P_n(m) \\approx \\frac{1}{\\sqrt{npq}} \\cdot \\frac{1}{\\sqrt{2\\pi}}e^{-\\frac{x^2}{2}}, \n",
    "\\text{ где } x=\\frac{m-np}{\\sqrt{npq}}$$\n",
    "\n",
    "***Теорема (интегральная теорема Муавра-Лапласа).***\n",
    "Если вероятность $p$ наступления события $A$ $(P(A)=p,\\;P(\\overline A)=q)$ в каждом испытании постоянна и отлична от нуля и единицы, а число независимых испытаний достаточно велико, то вероятность $P_n$ того, что событие А в серии из n испытаний произойдет не менне $k_1$ раз и не более $k_2$ раз может быть найдена по приближенной формуле\n",
    "$$\n",
    "P(k_1 \\leq A \\leq k_2) = \\frac{1}{2}(\\Phi(\\frac{k_1-np}{\\sqrt{2npq}})-\\Phi(\\frac{k_2-np}{\\sqrt{2npq}})), \\\\ \n",
    "\\text{ где } \\Phi(x)=\\frac{2}{\\sqrt{\\pi}} \\int\\limits_{0}^{x}e^{-t^2}dt\n",
    "\\text{ - функция Лапласа (erf x - функция ошибок)} \n",
    "$$\n",
    "$\n",
    "\\; \\overline{\\Phi}(x)=\\frac{1}{\\sqrt{2\\pi}} \\int\\limits_{0}^{x}e^{-\\frac{t^2}{2}}dt \\text{ - нормированная функция ошибок}$\n",
    "$\n",
    "Пусть $\\{{X_i}\\}_{i=1}^n: X_i =\n",
    "    \\begin{cases}\n",
    "       1 \\text{, если } A\\\\\n",
    "       0 \\text{, если } \\overline{A}\\\\\n",
    "    \\end{cases}, MX_i = p, DX_i=pq \n",
    "    \\Rightarrow \\\\ \n",
    "    Mn_A = M\\bigg(\\sum\\limits_{i=1}^{n}X_i\\bigg)=np, \\;\\quad\n",
    "    Dn_A = \\bigg(\\sum\\limits_{i=1}^{n}X_i\\bigg)=npq\n",
    "$\n",
    "\n",
    "С учетом того, что мы находимся в условиях центральной предельной теоремы, то\n",
    "$$ \\notag\n",
    "Z_n=\\frac{\\sum\\limits_{i=1}^{n}X_i - E(\\sum\\limits_{i=1}^{n}X_i)}\n",
    "    {\\sqrt{D(\\sum\\limits_{i=1}^{n}X_i)}}= \\frac{n_A-np}{\\sqrt{npq}} \\Rightarrow\n",
    "    Z_n \\sim N(0,1) \\text{ при }n\\to\\infty,\n",
    "$$\n",
    "т.к. $$MZ_n=M\\bigg(\\frac{n_A-np}{\\sqrt{npq}}\\bigg) = \\frac{np-np}{\\sqrt{npq}}=0 \\notag$$ и\n",
    "$$DZ_n=D\\bigg(\\frac{n_A-np}{\\sqrt{npq}}\\bigg) = \\frac{1}{npq}Dn_A=\\frac{npq}{npq}=1 \\notag \\Rightarrow$$\n",
    "$$\\Rightarrow P\\{z_1 \\leq Z_n \\leq z_2\\} \\approx \\Phi\\big(\\frac{z_2-0}{1}\\big)-\\Phi\\big(\\frac{z_1-0}{1}\\big) =\\Phi(z_2)-\\Phi(z_1),$$ \n",
    "где $\\Phi(z)=\\frac{1}{\\sqrt{2\\pi}}\\int\\limits_{-\\infty}^{z}e^{-\\frac{x^2}{2}}dx$ - интеграл Лапласа (нормированный). \n",
    "\n",
    "Полагая, что $ z_1 = \\frac{k_1-np}{\\sqrt{npq}}, \\;\\; z_2 = \\frac{k_2-np}{\\sqrt{npq}}, \\;\\;\n",
    "    \\frac{k_1-np}{\\sqrt{npq}} \\leq \\frac{n_A-np}{\\sqrt{npq}} \\leq \\frac{k_2-np}{\\sqrt{npq}}\n",
    "    \\Rightarrow \\boxed{P\\{k_1 \\leq n_A \\leq k_2 \\}} = \\Phi(z_2) - \\Phi(z_1)\n",
    "$"
   ]
  },
  {
   "cell_type": "markdown",
   "metadata": {},
   "source": [
    "$$\n",
    "z_1 = \\frac{k_1-np}{\\sqrt{npq}}, \\;\\; z_2 \\frac{k_2-np}{\\sqrt{npq}}\n",
    "$$\n",
    "$\n",
    "\\\\ z_1 = \\frac{k_1-np}{\\sqrt{npq}} \\leq \\frac{n_A-np}{\\sqrt{npq}} \\leq \\frac{k_2-np}{\\sqrt{npq}}\n",
    "$"
   ]
  },
  {
   "cell_type": "markdown",
   "metadata": {},
   "source": [
    "***Теорема (интегральная теорема Муавра-Лапласа)***\n",
    "Вероятность события А равна p. Какова вероятность, что событие А в серии из n испытаний произойдет не менне $k_1$ раз и не более $k_2$ раз\n",
    "$\n",
    "P(a<x<b) = \\frac{1}{2}(\\Phi(\\frac{b-np}{\\sqrt{2npq}})-\\Phi(\\frac{a-np}{\\sqrt{2npq}})), \\\\ \n",
    "\\text{ где } \\Phi(x)=\\frac{2}{\\sqrt{\\pi}} \\int\\limits_{0}^{x}e^{-t^2}dt\n",
    "\\text{ - функция Лапласа (erf x - функция ошибок)} \n",
    "$\n",
    "\n",
    "***Спр*** \n",
    "$ \n",
    "\\; \\overline{\\Phi}(x)=\\frac{1}{\\sqrt{2\\pi}} \\int\\limits_{0}^{x}e^{-\\frac{t^2}{2}}dt \\text{ - нормированная функция ошибок}\n",
    "$\n",
    "\n",
    "Связаны [между собой соотношением:](http://www.youtube.com/watch?v=h6HW30wfr7E&t=2m40s)\n",
    "$$\n",
    "\\overline{\\Phi}(x) = \\frac{1}{2}\\Phi(\\frac{x}{\\sqrt{2}}) \\text{ или } \n",
    "\\overline{\\Phi}(\\frac{x}{\\sqrt{2}}) = \\frac{1}{2}\\Phi(x) \n",
    "$$ "
   ]
  },
  {
   "cell_type": "markdown",
   "metadata": {},
   "source": [
    "Для чего используется функция Лапласа и как она связана с законом распределения?\n",
    "$ \n",
    "\\text{Пусть } \\xi \\in N(0,1), \\text{ тогда } \n",
    "P(a<\\xi<b)=\\frac{1}{2}(\\Phi(\\frac{a-m}{\\sigma \\sqrt2})-\\Phi(\\frac{b-m}{\\sigma \\sqrt2}))\n",
    "$"
   ]
  },
  {
   "cell_type": "code",
   "execution_count": 6,
   "metadata": {},
   "outputs": [],
   "source": [
    "import matplotlib.pyplot as plt\n",
    "import numpy as np\n",
    "import scipy.stats as sts\n",
    "plt.style.use(\"dark_background\")"
   ]
  },
  {
   "cell_type": "code",
   "execution_count": 13,
   "metadata": {},
   "outputs": [
    {
     "data": {
      "text/plain": [
       "<matplotlib.legend.Legend at 0x7fddd51b9ad0>"
      ]
     },
     "execution_count": 13,
     "metadata": {},
     "output_type": "execute_result"
    },
    {
     "data": {
      "image/png": "[encoded data removed]",
      "text/plain": [
       "<Figure size 432x288 with 1 Axes>"
      ]
     },
     "metadata": {},
     "output_type": "display_data"
    }
   ],
   "source": [
    "def p(x):\n",
    "    return (1/np.sqrt(2*np.pi))*np.exp(-x**2/2)\n",
    "\n",
    "def f(x, mu, sigma):\n",
    "    return (1/(np.sqrt(2*np.pi)*sigma))*np.exp(-(x-mu)**2/(2*sigma**2))\n",
    "\n",
    "xx = np.arange(-5, 5, 0.01)\n",
    "\n",
    "plt.plot(xx, p(xx), c='b', label='laplace', lw=3)\n",
    "plt.plot(xx, f(xx, 0, 1), c='m', label='N~(0, 1)', alpha=0.3, lw=7)\n",
    "plt.plot(xx, sts.norm.pdf(xx), c='y', label='sts.norm', alpha=0.2, lw=13)\n",
    "plt.legend()"
   ]
  },
  {
   "cell_type": "code",
   "execution_count": null,
   "metadata": {},
   "outputs": [],
   "source": []
  }
 ],
 "metadata": {
  "kernelspec": {
   "display_name": "Python 3",
   "language": "python",
   "name": "python3"
  },
  "language_info": {
   "codemirror_mode": {
    "name": "ipython",
    "version": 3
   },
   "file_extension": ".py",
   "mimetype": "text/x-python",
   "name": "python",
   "nbconvert_exporter": "python",
   "pygments_lexer": "ipython3",
   "version": "3.7.7"
  },
  "latex_envs": {
   "LaTeX_envs_menu_present": true,
   "autoclose": false,
   "autocomplete": false,
   "bibliofile": "biblio.bib",
   "cite_by": "apalike",
   "current_citInitial": 1,
   "eqLabelWithNumbers": false,
   "eqNumInitial": 1,
   "hotkeys": {
    "equation": "Ctrl-E",
    "itemize": "Ctrl-I"
   },
   "labels_anchors": false,
   "latex_user_defs": false,
   "report_style_numbering": false,
   "user_envs_cfg": false
  }
 },
 "nbformat": 4,
 "nbformat_minor": 4
}
