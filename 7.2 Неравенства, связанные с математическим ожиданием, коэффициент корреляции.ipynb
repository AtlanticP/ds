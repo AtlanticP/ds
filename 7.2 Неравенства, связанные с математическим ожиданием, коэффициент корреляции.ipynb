{
 "cells": [
  {
   "cell_type": "markdown",
   "metadata": {},
   "source": [
    "#### <span style=\"color:blue\">Неравенства, связанные с математическим ожиданием, коэффициент корреляции</span>"
   ]
  },
  {
   "cell_type": "markdown",
   "metadata": {},
   "source": [
    "***Неравенства, связанные с математическим ожиданием***\n",
    "1. $\\text{Если } P(\\xi \\geq 0)=1, \\text{ то } E_\\xi \\geq 0$\n",
    "2. $\\text{Если } P(\\xi \\geq \\eta)=1, \\text{ то } E_\\xi \\geq E_\\eta$\n",
    "3. $\\text{Если } P(-|\\xi| \\leq \\xi \\leq |\\xi|)=1, \\text{ то } E_{-|\\xi|} \\leq E_\\xi \\leq E_{|\\xi|}$\n",
    "4. $\\text{Неравенство Чебышева: } \\forall \\varepsilon > 0 \\quad\n",
    "P(|\\xi-E_\\xi| \\geq \\varepsilon) \\leq \\frac{D_\\xi}{\\varepsilon^2}$\n",
    "5. $\\text{Неравенство Коши-Буняковского: } |cov_{\\xi, \\eta}| \\leq \\sqrt{D_\\xi D_\\eta}$\n"
   ]
  },
  {
   "cell_type": "markdown",
   "metadata": {},
   "source": [
    "***Коэффициент корреляции*** случайных величин $\\xi,\\; \\eta$ называется число:\n",
    "$$corr(\\xi, \\eta)=\\frac{cov(\\xi, \\eta)}{\\sqrt{D_\\xi D_\\eta}}$$\n",
    "\n",
    "Если $\\xi, \\eta$ НСВ, то $corr(\\xi, \\eta) = 0$ (в обратную сторону неверно)\n"
   ]
  }
 ],
 "metadata": {
  "kernelspec": {
   "display_name": "Python 3",
   "language": "python",
   "name": "python3"
  },
  "language_info": {
   "codemirror_mode": {
    "name": "ipython",
    "version": 3
   },
   "file_extension": ".py",
   "mimetype": "text/x-python",
   "name": "python",
   "nbconvert_exporter": "python",
   "pygments_lexer": "ipython3",
   "version": "3.7.7"
  }
 },
 "nbformat": 4,
 "nbformat_minor": 4
}
