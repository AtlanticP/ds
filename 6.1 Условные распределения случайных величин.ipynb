{
 "cells": [
  {
   "cell_type": "markdown",
   "metadata": {},
   "source": [
    "#### Условные распределения случайных величин\n",
    "- функции от случайных величин\n",
    "- распределение Коши\n",
    "\n",
    "Сердобольская"
   ]
  },
  {
   "cell_type": "markdown",
   "metadata": {},
   "source": [
    "***Удалить!!!!!!!!!!!!!!!!***\n",
    "\n",
    "Пусть $y \\in \\Re: p_\\eta(y) \\neq 0 \\Rightarrow P(y \\leq \\eta < y + dy) = p_\\eta(y)dy \\neq 0 \\Rightarrow P (x \\leq \\xi \\leq x + \\Delta x | y \\leq \\eta < y + dy) = p_{\\xi, \\eta}(x, y)dxdy$"
   ]
  },
  {
   "cell_type": "markdown",
   "metadata": {},
   "source": [
    "Пусть $\\xi, \\eta$ - случайные величины, имеют абсолютно непрерывное распределение с совместной плотностью распределения $p_{\\xi, \\eta}(x, y), p_\\eta(y) \\neq 0, \\Delta x \\text{ и }  \\Delta y \\text{ - конечные приращения}  \\text{, тогда}: \\\\\n",
    "P (x \\leq \\xi \\leq x + \\Delta x | y \\leq \\eta < y + \\Delta y)\n",
    "\\overset{def}{=} \\frac{P (x \\leq \\xi \\leq x + \\Delta x, y \\leq \\eta < y + \\Delta y)}{P(y \\leq \\eta < y + \\Delta y)} = \\\\\n",
    "= \\frac {\\iint_{x \\leq z \\leq x + \\Delta x, y \\leq u < y + \\Delta}{} p_{\\xi, \\eta}(z, u)dzdu}\n",
    "{\\int_{y \\leq u < y + \\Delta}{} p_{\\eta}(u)du} \\overset{т.\\; о \\; среднем}{=} \\frac{p_{\\xi, \\eta}(x*, y*)\\Delta x \\Delta y}{p_{\\eta}(y**) \\Delta y} = \\frac{p_{\\xi, \\eta}(x*, y*)}{p_{\\eta}(y**)}\\Delta x, \\text{ где } \\frac{p_{\\xi, \\eta}(x*, y*)}{p_{\\eta}(y**)} \\xrightarrow [\\Delta x, \\Delta y \\rightarrow 0]{} \\frac{p_{\\xi, \\eta}(x, y)}{p_{\\eta}(y)}\n",
    "\\\\\n",
    "\\Rightarrow P (x \\leq \\xi \\leq x + dx | y \\leq \\eta < y + dy) = \\frac{p_{\\xi, \\eta}(x, y)}{p_{\\eta}(y)} \\overset{def}{=}p_{\\xi|\\eta}(x|y) \\\\ \\text{ - условная плотность распределения случайной величины }  \\xi \\text{ при условии } \\eta = y$"
   ]
  },
  {
   "cell_type": "markdown",
   "metadata": {},
   "source": [
    "***Замечание 1***\n",
    "Пусть события A и В - незавимые, тогда\n",
    "$P(A|B) \\overset{def}{=} \\frac {P(A \\cap B)}{P(B)} \\overset{нсв}{=} \\frac {P(A)P(B)}{P(B)}= P(A), \\text{ т.о, если } \\\\ \\xi, \\eta \\text{-  независимые случайные величины, тогда } p_{\\xi|\\eta}(x|y) = p_\\xi(x), \\\\ \\forall x, y: y \\neq 0$"
   ]
  }
 ],
 "metadata": {
  "kernelspec": {
   "display_name": "Python 3",
   "language": "python",
   "name": "python3"
  },
  "language_info": {
   "codemirror_mode": {
    "name": "ipython",
    "version": 3
   },
   "file_extension": ".py",
   "mimetype": "text/x-python",
   "name": "python",
   "nbconvert_exporter": "python",
   "pygments_lexer": "ipython3",
   "version": "3.7.7"
  },
  "latex_envs": {
   "LaTeX_envs_menu_present": true,
   "autoclose": false,
   "autocomplete": true,
   "bibliofile": "biblio.bib",
   "cite_by": "apalike",
   "current_citInitial": 1,
   "eqLabelWithNumbers": false,
   "eqNumInitial": 1,
   "hotkeys": {
    "equation": "Ctrl-E",
    "itemize": "Ctrl-I"
   },
   "labels_anchors": false,
   "latex_user_defs": false,
   "report_style_numbering": false,
   "user_envs_cfg": false
  }
 },
 "nbformat": 4,
 "nbformat_minor": 4
}
